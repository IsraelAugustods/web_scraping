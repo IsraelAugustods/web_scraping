{
 "cells": [
  {
   "cell_type": "markdown",
   "id": "011be542-4a9e-415b-9451-601d4a9a4664",
   "metadata": {
    "jp-MarkdownHeadingCollapsed": true
   },
   "source": [
    "# 0.0 IMPORTS"
   ]
  },
  {
   "cell_type": "code",
   "execution_count": 18,
   "id": "2dee5417-8af0-42e8-9309-9413b206f966",
   "metadata": {
    "execution": {
     "iopub.execute_input": "2024-03-11T13:47:48.781344Z",
     "iopub.status.busy": "2024-03-11T13:47:48.780789Z",
     "iopub.status.idle": "2024-03-11T13:47:48.788126Z",
     "shell.execute_reply": "2024-03-11T13:47:48.785616Z",
     "shell.execute_reply.started": "2024-03-11T13:47:48.781302Z"
    }
   },
   "outputs": [],
   "source": [
    "import pandas as pd \n",
    "from sqlalchemy import create_engine\n",
    "import sqlite3"
   ]
  },
  {
   "cell_type": "markdown",
   "id": "34c35c0d-7230-4d64-a0d2-9860a9af626f",
   "metadata": {
    "jp-MarkdownHeadingCollapsed": true
   },
   "source": [
    "# 1.0 INSERTING DATA IN A DATABASE"
   ]
  },
  {
   "cell_type": "code",
   "execution_count": 38,
   "id": "328979e9-f77c-46cd-b90c-6311d46f2d51",
   "metadata": {
    "execution": {
     "iopub.execute_input": "2024-03-11T14:04:07.585115Z",
     "iopub.status.busy": "2024-03-11T14:04:07.584401Z",
     "iopub.status.idle": "2024-03-11T14:04:07.598214Z",
     "shell.execute_reply": "2024-03-11T14:04:07.595984Z",
     "shell.execute_reply.started": "2024-03-11T14:04:07.585051Z"
    }
   },
   "outputs": [],
   "source": [
    "# read the data\n",
    "data = pd.read_csv('data_raw.csv')"
   ]
  },
  {
   "cell_type": "code",
   "execution_count": 39,
   "id": "d3c13749-ca66-4c5e-8492-a9e12f34fdc2",
   "metadata": {
    "execution": {
     "iopub.execute_input": "2024-03-11T14:04:08.061708Z",
     "iopub.status.busy": "2024-03-11T14:04:08.060633Z",
     "iopub.status.idle": "2024-03-11T14:04:08.067921Z",
     "shell.execute_reply": "2024-03-11T14:04:08.066040Z",
     "shell.execute_reply.started": "2024-03-11T14:04:08.061653Z"
    }
   },
   "outputs": [],
   "source": [
    "# conncetion and creatinon of data base\n",
    "conn = sqlite3.connect('db_books.sqlite')"
   ]
  },
  {
   "cell_type": "code",
   "execution_count": 43,
   "id": "4ab8a7ad-5a5e-4e75-9e06-b82cc97d926a",
   "metadata": {
    "execution": {
     "iopub.execute_input": "2024-03-11T14:04:18.451368Z",
     "iopub.status.busy": "2024-03-11T14:04:18.450638Z",
     "iopub.status.idle": "2024-03-11T14:04:18.459449Z",
     "shell.execute_reply": "2024-03-11T14:04:18.458006Z",
     "shell.execute_reply.started": "2024-03-11T14:04:18.451298Z"
    }
   },
   "outputs": [],
   "source": [
    "# creating a empty table\n",
    "query_schema_books = \"\"\"\n",
    "CREATE TABLE books (\n",
    "    name              TEXT, \n",
    "    price             REAL,\n",
    "    stock             TEXT,\n",
    "    type              TEXT,\n",
    "    scraping_date     TEXT,\n",
    "    star_rating       TEXT\n",
    ")\n",
    "\"\"\"\n",
    "#conn.execute(query_schema_books)"
   ]
  },
  {
   "cell_type": "code",
   "execution_count": 44,
   "id": "ef3ae672-b971-45ce-b961-07f084875061",
   "metadata": {
    "execution": {
     "iopub.execute_input": "2024-03-11T14:04:18.781883Z",
     "iopub.status.busy": "2024-03-11T14:04:18.781360Z",
     "iopub.status.idle": "2024-03-11T14:04:18.797965Z",
     "shell.execute_reply": "2024-03-11T14:04:18.796458Z",
     "shell.execute_reply.started": "2024-03-11T14:04:18.781840Z"
    }
   },
   "outputs": [
    {
     "data": {
      "text/plain": [
       "57"
      ]
     },
     "execution_count": 44,
     "metadata": {},
     "output_type": "execute_result"
    }
   ],
   "source": [
    "# insert data \n",
    "data.to_sql('books', con = conn, if_exists= 'append', index = False)"
   ]
  },
  {
   "cell_type": "code",
   "execution_count": 45,
   "id": "c2fd5ca6-bc81-4528-adcd-002ddd6a25fc",
   "metadata": {
    "execution": {
     "iopub.execute_input": "2024-03-11T14:04:19.269887Z",
     "iopub.status.busy": "2024-03-11T14:04:19.268943Z",
     "iopub.status.idle": "2024-03-11T14:04:19.291624Z",
     "shell.execute_reply": "2024-03-11T14:04:19.289525Z",
     "shell.execute_reply.started": "2024-03-11T14:04:19.269836Z"
    }
   },
   "outputs": [
    {
     "data": {
      "text/html": [
       "<div>\n",
       "<style scoped>\n",
       "    .dataframe tbody tr th:only-of-type {\n",
       "        vertical-align: middle;\n",
       "    }\n",
       "\n",
       "    .dataframe tbody tr th {\n",
       "        vertical-align: top;\n",
       "    }\n",
       "\n",
       "    .dataframe thead th {\n",
       "        text-align: right;\n",
       "    }\n",
       "</style>\n",
       "<table border=\"1\" class=\"dataframe\">\n",
       "  <thead>\n",
       "    <tr style=\"text-align: right;\">\n",
       "      <th></th>\n",
       "      <th>name</th>\n",
       "      <th>price</th>\n",
       "      <th>stock</th>\n",
       "      <th>type</th>\n",
       "      <th>scraping_date</th>\n",
       "      <th>star_rating</th>\n",
       "    </tr>\n",
       "  </thead>\n",
       "  <tbody>\n",
       "    <tr>\n",
       "      <th>0</th>\n",
       "      <td>The Secret Garden</td>\n",
       "      <td>15.08</td>\n",
       "      <td>In stock</td>\n",
       "      <td>classic</td>\n",
       "      <td>2024-03-11 10:41:33</td>\n",
       "      <td>Four</td>\n",
       "    </tr>\n",
       "    <tr>\n",
       "      <th>1</th>\n",
       "      <td>The Metamorphosis</td>\n",
       "      <td>28.58</td>\n",
       "      <td>In stock</td>\n",
       "      <td>classic</td>\n",
       "      <td>2024-03-11 10:41:33</td>\n",
       "      <td>One</td>\n",
       "    </tr>\n",
       "    <tr>\n",
       "      <th>2</th>\n",
       "      <td>The Pilgrim's Progress</td>\n",
       "      <td>50.26</td>\n",
       "      <td>In stock</td>\n",
       "      <td>classic</td>\n",
       "      <td>2024-03-11 10:41:33</td>\n",
       "      <td>Two</td>\n",
       "    </tr>\n",
       "    <tr>\n",
       "      <th>3</th>\n",
       "      <td>The Hound of the ...</td>\n",
       "      <td>14.82</td>\n",
       "      <td>In stock</td>\n",
       "      <td>classic</td>\n",
       "      <td>2024-03-11 10:41:33</td>\n",
       "      <td>Two</td>\n",
       "    </tr>\n",
       "    <tr>\n",
       "      <th>4</th>\n",
       "      <td>Little Women (Little Women ...</td>\n",
       "      <td>28.07</td>\n",
       "      <td>In stock</td>\n",
       "      <td>classic</td>\n",
       "      <td>2024-03-11 10:41:33</td>\n",
       "      <td>Four</td>\n",
       "    </tr>\n",
       "    <tr>\n",
       "      <th>...</th>\n",
       "      <td>...</td>\n",
       "      <td>...</td>\n",
       "      <td>...</td>\n",
       "      <td>...</td>\n",
       "      <td>...</td>\n",
       "      <td>...</td>\n",
       "    </tr>\n",
       "    <tr>\n",
       "      <th>109</th>\n",
       "      <td>Born for This: How ...</td>\n",
       "      <td>21.59</td>\n",
       "      <td>In stock</td>\n",
       "      <td>business</td>\n",
       "      <td>2024-03-11 10:41:48</td>\n",
       "      <td>Five</td>\n",
       "    </tr>\n",
       "    <tr>\n",
       "      <th>110</th>\n",
       "      <td>The E-Myth Revisited: Why ...</td>\n",
       "      <td>36.91</td>\n",
       "      <td>In stock</td>\n",
       "      <td>business</td>\n",
       "      <td>2024-03-11 10:41:48</td>\n",
       "      <td>One</td>\n",
       "    </tr>\n",
       "    <tr>\n",
       "      <th>111</th>\n",
       "      <td>Rich Dad, Poor Dad</td>\n",
       "      <td>51.74</td>\n",
       "      <td>In stock</td>\n",
       "      <td>business</td>\n",
       "      <td>2024-03-11 10:41:48</td>\n",
       "      <td>One</td>\n",
       "    </tr>\n",
       "    <tr>\n",
       "      <th>112</th>\n",
       "      <td>The Lean Startup: How ...</td>\n",
       "      <td>33.92</td>\n",
       "      <td>In stock</td>\n",
       "      <td>business</td>\n",
       "      <td>2024-03-11 10:41:48</td>\n",
       "      <td>Three</td>\n",
       "    </tr>\n",
       "    <tr>\n",
       "      <th>113</th>\n",
       "      <td>Rework</td>\n",
       "      <td>44.88</td>\n",
       "      <td>In stock</td>\n",
       "      <td>business</td>\n",
       "      <td>2024-03-11 10:41:48</td>\n",
       "      <td>Two</td>\n",
       "    </tr>\n",
       "  </tbody>\n",
       "</table>\n",
       "<p>114 rows × 6 columns</p>\n",
       "</div>"
      ],
      "text/plain": [
       "                               name  price             stock      type  \\\n",
       "0                 The Secret Garden  15.08          In stock   classic   \n",
       "1                 The Metamorphosis  28.58          In stock   classic   \n",
       "2            The Pilgrim's Progress  50.26          In stock   classic   \n",
       "3              The Hound of the ...  14.82          In stock   classic   \n",
       "4    Little Women (Little Women ...  28.07          In stock   classic   \n",
       "..                              ...    ...               ...       ...   \n",
       "109          Born for This: How ...  21.59          In stock  business   \n",
       "110   The E-Myth Revisited: Why ...  36.91          In stock  business   \n",
       "111              Rich Dad, Poor Dad  51.74          In stock  business   \n",
       "112       The Lean Startup: How ...  33.92          In stock  business   \n",
       "113                          Rework  44.88          In stock  business   \n",
       "\n",
       "           scraping_date star_rating  \n",
       "0    2024-03-11 10:41:33        Four  \n",
       "1    2024-03-11 10:41:33         One  \n",
       "2    2024-03-11 10:41:33         Two  \n",
       "3    2024-03-11 10:41:33         Two  \n",
       "4    2024-03-11 10:41:33        Four  \n",
       "..                   ...         ...  \n",
       "109  2024-03-11 10:41:48        Five  \n",
       "110  2024-03-11 10:41:48         One  \n",
       "111  2024-03-11 10:41:48         One  \n",
       "112  2024-03-11 10:41:48       Three  \n",
       "113  2024-03-11 10:41:48         Two  \n",
       "\n",
       "[114 rows x 6 columns]"
      ]
     },
     "execution_count": 45,
     "metadata": {},
     "output_type": "execute_result"
    }
   ],
   "source": [
    "# final product\n",
    "query = \"\"\"\n",
    "    SELECT *\n",
    "    FROM books\n",
    "\n",
    "\"\"\"\n",
    "table = pd.read_sql_query(query, conn)\n",
    "table"
   ]
  },
  {
   "cell_type": "code",
   "execution_count": 46,
   "id": "dd5b6f9e-4e14-418d-8c28-3e2bb12658a8",
   "metadata": {
    "execution": {
     "iopub.execute_input": "2024-03-11T14:04:22.731849Z",
     "iopub.status.busy": "2024-03-11T14:04:22.730327Z",
     "iopub.status.idle": "2024-03-11T14:04:22.739901Z",
     "shell.execute_reply": "2024-03-11T14:04:22.738173Z",
     "shell.execute_reply.started": "2024-03-11T14:04:22.731760Z"
    }
   },
   "outputs": [],
   "source": [
    "conn.close()"
   ]
  }
 ],
 "metadata": {
  "kernelspec": {
   "display_name": "Python 3 (ipykernel)",
   "language": "python",
   "name": "python3"
  },
  "language_info": {
   "codemirror_mode": {
    "name": "ipython",
    "version": 3
   },
   "file_extension": ".py",
   "mimetype": "text/x-python",
   "name": "python",
   "nbconvert_exporter": "python",
   "pygments_lexer": "ipython3",
   "version": "3.9.18"
  }
 },
 "nbformat": 4,
 "nbformat_minor": 5
}
