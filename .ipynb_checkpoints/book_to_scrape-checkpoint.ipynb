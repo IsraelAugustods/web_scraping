{
 "cells": [
  {
   "cell_type": "markdown",
   "id": "dca3ddeb-9c17-4ea5-beb4-1fbe406c840e",
   "metadata": {
    "execution": {
     "iopub.execute_input": "2024-03-06T21:15:33.225954Z",
     "iopub.status.busy": "2024-03-06T21:15:33.224398Z",
     "iopub.status.idle": "2024-03-06T21:15:33.235829Z",
     "shell.execute_reply": "2024-03-06T21:15:33.232749Z",
     "shell.execute_reply.started": "2024-03-06T21:15:33.225856Z"
    },
    "jp-MarkdownHeadingCollapsed": true
   },
   "source": [
    "# 0 - IMPORTS"
   ]
  },
  {
   "cell_type": "code",
   "execution_count": 242,
   "id": "a0a39c81-ea32-4867-aad2-cbce040ae918",
   "metadata": {
    "execution": {
     "iopub.execute_input": "2024-03-07T13:08:21.295469Z",
     "iopub.status.busy": "2024-03-07T13:08:21.294429Z",
     "iopub.status.idle": "2024-03-07T13:08:21.307388Z",
     "shell.execute_reply": "2024-03-07T13:08:21.304610Z",
     "shell.execute_reply.started": "2024-03-07T13:08:21.295372Z"
    }
   },
   "outputs": [],
   "source": [
    "import requests\n",
    "import pandas as pd\n",
    "import re\n",
    "from datetime import datetime\n",
    "from bs4 import BeautifulSoup"
   ]
  },
  {
   "cell_type": "markdown",
   "id": "e97c6254-4f63-4387-91d2-cd3aa6475a37",
   "metadata": {
    "execution": {
     "iopub.execute_input": "2024-03-06T21:32:49.466778Z",
     "iopub.status.busy": "2024-03-06T21:32:49.465025Z",
     "iopub.status.idle": "2024-03-06T21:32:49.474905Z",
     "shell.execute_reply": "2024-03-06T21:32:49.472169Z",
     "shell.execute_reply.started": "2024-03-06T21:32:49.466692Z"
    },
    "jp-MarkdownHeadingCollapsed": true
   },
   "source": [
    "# 1 - Type: Classics "
   ]
  },
  {
   "cell_type": "code",
   "execution_count": 289,
   "id": "ce952ac8-33ef-4d9f-b1e8-fb6acbeb2ce3",
   "metadata": {
    "execution": {
     "iopub.execute_input": "2024-03-07T13:49:19.292185Z",
     "iopub.status.busy": "2024-03-07T13:49:19.291116Z",
     "iopub.status.idle": "2024-03-07T13:49:20.384321Z",
     "shell.execute_reply": "2024-03-07T13:49:20.383166Z",
     "shell.execute_reply.started": "2024-03-07T13:49:19.292088Z"
    }
   },
   "outputs": [],
   "source": [
    "url_classic = 'https://books.toscrape.com/catalogue/category/books/classics_6/index.html'\n",
    "headers = {'User-Agent': 'Mozilla/5.0 (Windows NT 10.0; Win64; x64) AppleWebKit/537.36 (KHTML, like Gecko) Chrome/111.0.0.0 Safari/537.36'}\n",
    "\n",
    "page = requests.get(url_classic, headers = headers)\n",
    "soup = BeautifulSoup(page.text, 'html.parser')"
   ]
  },
  {
   "cell_type": "markdown",
   "id": "40515931-9097-4f0f-bc45-0b3dc8528c60",
   "metadata": {
    "jp-MarkdownHeadingCollapsed": true
   },
   "source": [
    "## 1.1 Name - Price - Stock - Type "
   ]
  },
  {
   "cell_type": "code",
   "execution_count": 290,
   "id": "e6be7a1a-9a12-4987-aecc-acf3c976c5b9",
   "metadata": {
    "execution": {
     "iopub.execute_input": "2024-03-07T13:49:23.138223Z",
     "iopub.status.busy": "2024-03-07T13:49:23.137453Z",
     "iopub.status.idle": "2024-03-07T13:49:23.169781Z",
     "shell.execute_reply": "2024-03-07T13:49:23.166910Z",
     "shell.execute_reply.started": "2024-03-07T13:49:23.138139Z"
    }
   },
   "outputs": [],
   "source": [
    "products_detalis = soup.find_all('li', class_ = 'col-xs-6 col-sm-4 col-md-3 col-lg-3')\n",
    "\n",
    "products_name_price_stock = [list (filter(None, i.get_text().split('\\n'))) for i in products_detalis ]\n",
    "\n",
    "df_detalis_classic = pd.DataFrame(products_name_price_stock)\n",
    "df_detalis_classic = df_detalis_classic.drop([2, 4, 5], axis =1)\n",
    "df_detalis_classic.columns = ['Name', 'Price', 'Stock']\n",
    "df_detalis_classic['Type'] = 'Classic'\n",
    "df_detalis_classic['Price'] = df_detalis['Price'].str.replace('Â', '')\n",
    "df_detalis_classic['Scraping_date'] = datetime.now().strftime('%Y-%m-%d %H:%M:%S')"
   ]
  },
  {
   "cell_type": "markdown",
   "id": "bbe3b4bc-1508-4b1a-ab8d-0bd3e61acf50",
   "metadata": {
    "jp-MarkdownHeadingCollapsed": true
   },
   "source": [
    "## 1.2 Star-Rating "
   ]
  },
  {
   "cell_type": "code",
   "execution_count": 291,
   "id": "0ad9b1b6-8d9f-4488-bc3e-c84da94ab74f",
   "metadata": {
    "execution": {
     "iopub.execute_input": "2024-03-07T13:49:24.098067Z",
     "iopub.status.busy": "2024-03-07T13:49:24.096751Z",
     "iopub.status.idle": "2024-03-07T13:49:24.220185Z",
     "shell.execute_reply": "2024-03-07T13:49:24.219135Z",
     "shell.execute_reply.started": "2024-03-07T13:49:24.097994Z"
    }
   },
   "outputs": [],
   "source": [
    "# Number of results in it page \n",
    "results_classic = list(filter(None,soup.find(class_ = 'form-horizontal').get_text().split('\\n')))\n",
    "results_classic_number = int(results_classic[0].replace('results.', ''))\n",
    "\n",
    "# Star_rating\n",
    "star_rating = []\n",
    "for x in range(results_classic_number):\n",
    "    el = soup.find_all(class_ = 'star-rating')[x]\n",
    "    class_name = el['class']\n",
    "    a = class_name[1]\n",
    "    star_rating.append(a)\n",
    "\n",
    "# Star-rating dataframe \n",
    "star_rating_classic = pd.DataFrame(star_rating)\n",
    "star_rating_classic.columns = ['star_rating']"
   ]
  },
  {
   "cell_type": "markdown",
   "id": "b30585d0-e53b-4f1e-ae20-4e09cb719c7d",
   "metadata": {
    "jp-MarkdownHeadingCollapsed": true
   },
   "source": [
    "## 1.3 - DataFrame raw classic"
   ]
  },
  {
   "cell_type": "code",
   "execution_count": 292,
   "id": "d8773445-36e6-474d-a980-de0b1ece3607",
   "metadata": {
    "execution": {
     "iopub.execute_input": "2024-03-07T13:49:26.824182Z",
     "iopub.status.busy": "2024-03-07T13:49:26.823619Z",
     "iopub.status.idle": "2024-03-07T13:49:26.846200Z",
     "shell.execute_reply": "2024-03-07T13:49:26.843730Z",
     "shell.execute_reply.started": "2024-03-07T13:49:26.824142Z"
    }
   },
   "outputs": [
    {
     "data": {
      "text/html": [
       "<div>\n",
       "<style scoped>\n",
       "    .dataframe tbody tr th:only-of-type {\n",
       "        vertical-align: middle;\n",
       "    }\n",
       "\n",
       "    .dataframe tbody tr th {\n",
       "        vertical-align: top;\n",
       "    }\n",
       "\n",
       "    .dataframe thead th {\n",
       "        text-align: right;\n",
       "    }\n",
       "</style>\n",
       "<table border=\"1\" class=\"dataframe\">\n",
       "  <thead>\n",
       "    <tr style=\"text-align: right;\">\n",
       "      <th></th>\n",
       "      <th>Name</th>\n",
       "      <th>Price</th>\n",
       "      <th>Stock</th>\n",
       "      <th>Type</th>\n",
       "      <th>Scraping_date</th>\n",
       "      <th>star_rating</th>\n",
       "    </tr>\n",
       "  </thead>\n",
       "  <tbody>\n",
       "    <tr>\n",
       "      <th>0</th>\n",
       "      <td>The Secret Garden</td>\n",
       "      <td>£15.08</td>\n",
       "      <td>In stock</td>\n",
       "      <td>Classic</td>\n",
       "      <td>2024-03-07 10:49:23</td>\n",
       "      <td>Four</td>\n",
       "    </tr>\n",
       "    <tr>\n",
       "      <th>1</th>\n",
       "      <td>The Metamorphosis</td>\n",
       "      <td>£28.58</td>\n",
       "      <td>In stock</td>\n",
       "      <td>Classic</td>\n",
       "      <td>2024-03-07 10:49:23</td>\n",
       "      <td>One</td>\n",
       "    </tr>\n",
       "    <tr>\n",
       "      <th>2</th>\n",
       "      <td>The Pilgrim's Progress</td>\n",
       "      <td>£50.26</td>\n",
       "      <td>In stock</td>\n",
       "      <td>Classic</td>\n",
       "      <td>2024-03-07 10:49:23</td>\n",
       "      <td>Two</td>\n",
       "    </tr>\n",
       "    <tr>\n",
       "      <th>3</th>\n",
       "      <td>The Hound of the ...</td>\n",
       "      <td>£14.82</td>\n",
       "      <td>In stock</td>\n",
       "      <td>Classic</td>\n",
       "      <td>2024-03-07 10:49:23</td>\n",
       "      <td>Two</td>\n",
       "    </tr>\n",
       "    <tr>\n",
       "      <th>4</th>\n",
       "      <td>Little Women (Little Women ...</td>\n",
       "      <td>£28.07</td>\n",
       "      <td>In stock</td>\n",
       "      <td>Classic</td>\n",
       "      <td>2024-03-07 10:49:23</td>\n",
       "      <td>Four</td>\n",
       "    </tr>\n",
       "    <tr>\n",
       "      <th>5</th>\n",
       "      <td>Gone with the Wind</td>\n",
       "      <td>£32.49</td>\n",
       "      <td>In stock</td>\n",
       "      <td>Classic</td>\n",
       "      <td>2024-03-07 10:49:23</td>\n",
       "      <td>Three</td>\n",
       "    </tr>\n",
       "    <tr>\n",
       "      <th>6</th>\n",
       "      <td>Candide</td>\n",
       "      <td>£58.63</td>\n",
       "      <td>In stock</td>\n",
       "      <td>Classic</td>\n",
       "      <td>2024-03-07 10:49:23</td>\n",
       "      <td>Three</td>\n",
       "    </tr>\n",
       "    <tr>\n",
       "      <th>7</th>\n",
       "      <td>Animal Farm</td>\n",
       "      <td>£57.22</td>\n",
       "      <td>In stock</td>\n",
       "      <td>Classic</td>\n",
       "      <td>2024-03-07 10:49:23</td>\n",
       "      <td>Three</td>\n",
       "    </tr>\n",
       "    <tr>\n",
       "      <th>8</th>\n",
       "      <td>Wuthering Heights</td>\n",
       "      <td>£17.73</td>\n",
       "      <td>In stock</td>\n",
       "      <td>Classic</td>\n",
       "      <td>2024-03-07 10:49:23</td>\n",
       "      <td>Three</td>\n",
       "    </tr>\n",
       "    <tr>\n",
       "      <th>9</th>\n",
       "      <td>The Picture of Dorian ...</td>\n",
       "      <td>£29.70</td>\n",
       "      <td>In stock</td>\n",
       "      <td>Classic</td>\n",
       "      <td>2024-03-07 10:49:23</td>\n",
       "      <td>Two</td>\n",
       "    </tr>\n",
       "    <tr>\n",
       "      <th>10</th>\n",
       "      <td>The Complete Stories and ...</td>\n",
       "      <td>£26.78</td>\n",
       "      <td>In stock</td>\n",
       "      <td>Classic</td>\n",
       "      <td>2024-03-07 10:49:23</td>\n",
       "      <td>Four</td>\n",
       "    </tr>\n",
       "    <tr>\n",
       "      <th>11</th>\n",
       "      <td>Beowulf</td>\n",
       "      <td>£38.35</td>\n",
       "      <td>In stock</td>\n",
       "      <td>Classic</td>\n",
       "      <td>2024-03-07 10:49:23</td>\n",
       "      <td>Two</td>\n",
       "    </tr>\n",
       "    <tr>\n",
       "      <th>12</th>\n",
       "      <td>And Then There Were ...</td>\n",
       "      <td>£35.01</td>\n",
       "      <td>In stock</td>\n",
       "      <td>Classic</td>\n",
       "      <td>2024-03-07 10:49:23</td>\n",
       "      <td>Two</td>\n",
       "    </tr>\n",
       "    <tr>\n",
       "      <th>13</th>\n",
       "      <td>The Story of Hong ...</td>\n",
       "      <td>£43.19</td>\n",
       "      <td>In stock</td>\n",
       "      <td>Classic</td>\n",
       "      <td>2024-03-07 10:49:23</td>\n",
       "      <td>Four</td>\n",
       "    </tr>\n",
       "    <tr>\n",
       "      <th>14</th>\n",
       "      <td>The Little Prince</td>\n",
       "      <td>£45.42</td>\n",
       "      <td>In stock</td>\n",
       "      <td>Classic</td>\n",
       "      <td>2024-03-07 10:49:23</td>\n",
       "      <td>Two</td>\n",
       "    </tr>\n",
       "    <tr>\n",
       "      <th>15</th>\n",
       "      <td>Sense and Sensibility</td>\n",
       "      <td>£37.46</td>\n",
       "      <td>In stock</td>\n",
       "      <td>Classic</td>\n",
       "      <td>2024-03-07 10:49:23</td>\n",
       "      <td>One</td>\n",
       "    </tr>\n",
       "    <tr>\n",
       "      <th>16</th>\n",
       "      <td>Of Mice and Men</td>\n",
       "      <td>£47.11</td>\n",
       "      <td>In stock</td>\n",
       "      <td>Classic</td>\n",
       "      <td>2024-03-07 10:49:23</td>\n",
       "      <td>Two</td>\n",
       "    </tr>\n",
       "    <tr>\n",
       "      <th>17</th>\n",
       "      <td>Emma</td>\n",
       "      <td>£32.93</td>\n",
       "      <td>In stock</td>\n",
       "      <td>Classic</td>\n",
       "      <td>2024-03-07 10:49:23</td>\n",
       "      <td>Two</td>\n",
       "    </tr>\n",
       "    <tr>\n",
       "      <th>18</th>\n",
       "      <td>Alice in Wonderland (Alice's ...</td>\n",
       "      <td>£55.53</td>\n",
       "      <td>In stock</td>\n",
       "      <td>Classic</td>\n",
       "      <td>2024-03-07 10:49:23</td>\n",
       "      <td>One</td>\n",
       "    </tr>\n",
       "  </tbody>\n",
       "</table>\n",
       "</div>"
      ],
      "text/plain": [
       "                                Name   Price             Stock     Type  \\\n",
       "0                  The Secret Garden  £15.08          In stock  Classic   \n",
       "1                  The Metamorphosis  £28.58          In stock  Classic   \n",
       "2             The Pilgrim's Progress  £50.26          In stock  Classic   \n",
       "3               The Hound of the ...  £14.82          In stock  Classic   \n",
       "4     Little Women (Little Women ...  £28.07          In stock  Classic   \n",
       "5                 Gone with the Wind  £32.49          In stock  Classic   \n",
       "6                            Candide  £58.63          In stock  Classic   \n",
       "7                        Animal Farm  £57.22          In stock  Classic   \n",
       "8                  Wuthering Heights  £17.73          In stock  Classic   \n",
       "9          The Picture of Dorian ...  £29.70          In stock  Classic   \n",
       "10      The Complete Stories and ...  £26.78          In stock  Classic   \n",
       "11                           Beowulf  £38.35          In stock  Classic   \n",
       "12           And Then There Were ...  £35.01          In stock  Classic   \n",
       "13             The Story of Hong ...  £43.19          In stock  Classic   \n",
       "14                 The Little Prince  £45.42          In stock  Classic   \n",
       "15             Sense and Sensibility  £37.46          In stock  Classic   \n",
       "16                   Of Mice and Men  £47.11          In stock  Classic   \n",
       "17                              Emma  £32.93          In stock  Classic   \n",
       "18  Alice in Wonderland (Alice's ...  £55.53          In stock  Classic   \n",
       "\n",
       "          Scraping_date star_rating  \n",
       "0   2024-03-07 10:49:23        Four  \n",
       "1   2024-03-07 10:49:23         One  \n",
       "2   2024-03-07 10:49:23         Two  \n",
       "3   2024-03-07 10:49:23         Two  \n",
       "4   2024-03-07 10:49:23        Four  \n",
       "5   2024-03-07 10:49:23       Three  \n",
       "6   2024-03-07 10:49:23       Three  \n",
       "7   2024-03-07 10:49:23       Three  \n",
       "8   2024-03-07 10:49:23       Three  \n",
       "9   2024-03-07 10:49:23         Two  \n",
       "10  2024-03-07 10:49:23        Four  \n",
       "11  2024-03-07 10:49:23         Two  \n",
       "12  2024-03-07 10:49:23         Two  \n",
       "13  2024-03-07 10:49:23        Four  \n",
       "14  2024-03-07 10:49:23         Two  \n",
       "15  2024-03-07 10:49:23         One  \n",
       "16  2024-03-07 10:49:23         Two  \n",
       "17  2024-03-07 10:49:23         Two  \n",
       "18  2024-03-07 10:49:23         One  "
      ]
     },
     "execution_count": 292,
     "metadata": {},
     "output_type": "execute_result"
    }
   ],
   "source": [
    "# Concat of dataframes \n",
    "df_raw_classic = pd.concat([df_detalis_classic, star_rating_classic], axis = 1)\n",
    "df_raw_classic"
   ]
  },
  {
   "cell_type": "markdown",
   "id": "1f5270e7-97e5-4f6e-b33f-48fd705f63cf",
   "metadata": {
    "jp-MarkdownHeadingCollapsed": true
   },
   "source": [
    "# 2 - Type: Science Fiction "
   ]
  },
  {
   "cell_type": "code",
   "execution_count": 293,
   "id": "96c03a56-d04c-4ebf-831e-f21bbcfaef61",
   "metadata": {
    "execution": {
     "iopub.execute_input": "2024-03-07T13:50:08.711685Z",
     "iopub.status.busy": "2024-03-07T13:50:08.710365Z",
     "iopub.status.idle": "2024-03-07T13:50:09.766494Z",
     "shell.execute_reply": "2024-03-07T13:50:09.765747Z",
     "shell.execute_reply.started": "2024-03-07T13:50:08.711588Z"
    }
   },
   "outputs": [],
   "source": [
    "url_sf = 'https://books.toscrape.com/catalogue/category/books/science-fiction_16/index.html'\n",
    "headers = {'User-Agent': 'Mozilla/5.0 (Windows NT 10.0; Win64; x64) AppleWebKit/537.36 (KHTML, like Gecko) Chrome/111.0.0.0 Safari/537.36'}\n",
    "\n",
    "page = requests.get(url_sf, headers = headers)\n",
    "soup = BeautifulSoup(page.text, 'html.parser')"
   ]
  },
  {
   "cell_type": "markdown",
   "id": "49582ebd-e101-4d91-9156-f9afaf391d42",
   "metadata": {
    "jp-MarkdownHeadingCollapsed": true
   },
   "source": [
    "## 2.1 Name - Price - Stock - Type "
   ]
  },
  {
   "cell_type": "code",
   "execution_count": 294,
   "id": "6999e11d-e8a2-4f84-a742-fd45ad6a954e",
   "metadata": {
    "execution": {
     "iopub.execute_input": "2024-03-07T13:50:11.073833Z",
     "iopub.status.busy": "2024-03-07T13:50:11.073134Z",
     "iopub.status.idle": "2024-03-07T13:50:11.101036Z",
     "shell.execute_reply": "2024-03-07T13:50:11.098820Z",
     "shell.execute_reply.started": "2024-03-07T13:50:11.073774Z"
    }
   },
   "outputs": [],
   "source": [
    "products_detalis = soup.find_all('li', class_ = 'col-xs-6 col-sm-4 col-md-3 col-lg-3')\n",
    "products_name_price_stock = [list (filter(None, i.get_text().split('\\n'))) for i in products_detalis ]\n",
    "\n",
    "df_detalis_sf = pd.DataFrame(products_name_price_stock)\n",
    "df_detalis_sf = df_detalis_sf.drop([2, 4, 5], axis =1)\n",
    "df_detalis_sf.columns = ['Name', 'Price', 'Stock']\n",
    "df_detalis_sf['Type'] = 'Science_fiction'\n",
    "df_detalis_sf['Price'] = df_detalis_sf['Price'].str.replace('Â', '')\n",
    "df_detalis_sf['Scraping_date'] = datetime.now().strftime('%Y-%m-%d %H:%M:%S')"
   ]
  },
  {
   "cell_type": "markdown",
   "id": "2a370b8d-4356-4a86-8268-24640e26b5c3",
   "metadata": {
    "jp-MarkdownHeadingCollapsed": true
   },
   "source": [
    "## 2.2 Star-Rating "
   ]
  },
  {
   "cell_type": "code",
   "execution_count": 297,
   "id": "8e3638ad-f89c-4d62-ae66-b0eaf96db88a",
   "metadata": {
    "execution": {
     "iopub.execute_input": "2024-03-07T13:50:21.974842Z",
     "iopub.status.busy": "2024-03-07T13:50:21.974171Z",
     "iopub.status.idle": "2024-03-07T13:50:22.082760Z",
     "shell.execute_reply": "2024-03-07T13:50:22.081515Z",
     "shell.execute_reply.started": "2024-03-07T13:50:21.974783Z"
    }
   },
   "outputs": [],
   "source": [
    "# Number of results in it page \n",
    "results_sf= list(filter(None,soup.find(class_ = 'form-horizontal').get_text().split('\\n')))\n",
    "results_sf_number = int(results_sf[0].replace('results.', ''))\n",
    "\n",
    "# Star_rating\n",
    "star_rating = []\n",
    "for x in range(results_sf_number):\n",
    "    el = soup.find_all(class_ = 'star-rating')[x]\n",
    "    class_name = el['class']\n",
    "    a = class_name[1]\n",
    "    star_rating.append(a)\n",
    "\n",
    "# Star-rating dataframe \n",
    "star_rating_sf = pd.DataFrame(star_rating)\n",
    "star_rating_sf.columns = ['star_rating']"
   ]
  },
  {
   "cell_type": "markdown",
   "id": "c57b25a4-98cf-4d88-a73c-841742e9f846",
   "metadata": {
    "jp-MarkdownHeadingCollapsed": true
   },
   "source": [
    "## 2.3 - DataFrame raw Science Fiction "
   ]
  },
  {
   "cell_type": "code",
   "execution_count": 298,
   "id": "e8a17b33-99c1-4864-9c89-86ca09a0ac37",
   "metadata": {
    "execution": {
     "iopub.execute_input": "2024-03-07T13:50:26.070785Z",
     "iopub.status.busy": "2024-03-07T13:50:26.069571Z",
     "iopub.status.idle": "2024-03-07T13:50:26.100349Z",
     "shell.execute_reply": "2024-03-07T13:50:26.098104Z",
     "shell.execute_reply.started": "2024-03-07T13:50:26.070724Z"
    }
   },
   "outputs": [
    {
     "data": {
      "text/html": [
       "<div>\n",
       "<style scoped>\n",
       "    .dataframe tbody tr th:only-of-type {\n",
       "        vertical-align: middle;\n",
       "    }\n",
       "\n",
       "    .dataframe tbody tr th {\n",
       "        vertical-align: top;\n",
       "    }\n",
       "\n",
       "    .dataframe thead th {\n",
       "        text-align: right;\n",
       "    }\n",
       "</style>\n",
       "<table border=\"1\" class=\"dataframe\">\n",
       "  <thead>\n",
       "    <tr style=\"text-align: right;\">\n",
       "      <th></th>\n",
       "      <th>Name</th>\n",
       "      <th>Price</th>\n",
       "      <th>Stock</th>\n",
       "      <th>Type</th>\n",
       "      <th>Scraping_date</th>\n",
       "      <th>star_rating</th>\n",
       "    </tr>\n",
       "  </thead>\n",
       "  <tbody>\n",
       "    <tr>\n",
       "      <th>0</th>\n",
       "      <td>Mesaerion: The Best Science ...</td>\n",
       "      <td>£37.59</td>\n",
       "      <td>In stock</td>\n",
       "      <td>Science_fiction</td>\n",
       "      <td>2024-03-07 10:50:11</td>\n",
       "      <td>One</td>\n",
       "    </tr>\n",
       "    <tr>\n",
       "      <th>1</th>\n",
       "      <td>Join</td>\n",
       "      <td>£35.67</td>\n",
       "      <td>In stock</td>\n",
       "      <td>Science_fiction</td>\n",
       "      <td>2024-03-07 10:50:11</td>\n",
       "      <td>Five</td>\n",
       "    </tr>\n",
       "    <tr>\n",
       "      <th>2</th>\n",
       "      <td>William Shakespeare's Star Wars: ...</td>\n",
       "      <td>£43.30</td>\n",
       "      <td>In stock</td>\n",
       "      <td>Science_fiction</td>\n",
       "      <td>2024-03-07 10:50:11</td>\n",
       "      <td>Four</td>\n",
       "    </tr>\n",
       "    <tr>\n",
       "      <th>3</th>\n",
       "      <td>The Project</td>\n",
       "      <td>£10.65</td>\n",
       "      <td>In stock</td>\n",
       "      <td>Science_fiction</td>\n",
       "      <td>2024-03-07 10:50:11</td>\n",
       "      <td>One</td>\n",
       "    </tr>\n",
       "    <tr>\n",
       "      <th>4</th>\n",
       "      <td>Soft Apocalypse</td>\n",
       "      <td>£26.12</td>\n",
       "      <td>In stock</td>\n",
       "      <td>Science_fiction</td>\n",
       "      <td>2024-03-07 10:50:11</td>\n",
       "      <td>Two</td>\n",
       "    </tr>\n",
       "    <tr>\n",
       "      <th>5</th>\n",
       "      <td>Sleeping Giants (Themis Files ...</td>\n",
       "      <td>£48.74</td>\n",
       "      <td>In stock</td>\n",
       "      <td>Science_fiction</td>\n",
       "      <td>2024-03-07 10:50:11</td>\n",
       "      <td>One</td>\n",
       "    </tr>\n",
       "    <tr>\n",
       "      <th>6</th>\n",
       "      <td>Arena</td>\n",
       "      <td>£21.36</td>\n",
       "      <td>In stock</td>\n",
       "      <td>Science_fiction</td>\n",
       "      <td>2024-03-07 10:50:11</td>\n",
       "      <td>Four</td>\n",
       "    </tr>\n",
       "    <tr>\n",
       "      <th>7</th>\n",
       "      <td>Foundation (Foundation (Publication Order) ...</td>\n",
       "      <td>£32.42</td>\n",
       "      <td>In stock</td>\n",
       "      <td>Science_fiction</td>\n",
       "      <td>2024-03-07 10:50:11</td>\n",
       "      <td>One</td>\n",
       "    </tr>\n",
       "    <tr>\n",
       "      <th>8</th>\n",
       "      <td>The Restaurant at the ...</td>\n",
       "      <td>£10.92</td>\n",
       "      <td>In stock</td>\n",
       "      <td>Science_fiction</td>\n",
       "      <td>2024-03-07 10:50:11</td>\n",
       "      <td>One</td>\n",
       "    </tr>\n",
       "    <tr>\n",
       "      <th>9</th>\n",
       "      <td>Ready Player One</td>\n",
       "      <td>£19.07</td>\n",
       "      <td>In stock</td>\n",
       "      <td>Science_fiction</td>\n",
       "      <td>2024-03-07 10:50:11</td>\n",
       "      <td>Four</td>\n",
       "    </tr>\n",
       "    <tr>\n",
       "      <th>10</th>\n",
       "      <td>Life, the Universe and ...</td>\n",
       "      <td>£33.26</td>\n",
       "      <td>In stock</td>\n",
       "      <td>Science_fiction</td>\n",
       "      <td>2024-03-07 10:50:11</td>\n",
       "      <td>Two</td>\n",
       "    </tr>\n",
       "    <tr>\n",
       "      <th>11</th>\n",
       "      <td>Dune (Dune #1)</td>\n",
       "      <td>£54.86</td>\n",
       "      <td>In stock</td>\n",
       "      <td>Science_fiction</td>\n",
       "      <td>2024-03-07 10:50:11</td>\n",
       "      <td>One</td>\n",
       "    </tr>\n",
       "    <tr>\n",
       "      <th>12</th>\n",
       "      <td>Do Androids Dream of ...</td>\n",
       "      <td>£51.48</td>\n",
       "      <td>In stock</td>\n",
       "      <td>Science_fiction</td>\n",
       "      <td>2024-03-07 10:50:11</td>\n",
       "      <td>One</td>\n",
       "    </tr>\n",
       "    <tr>\n",
       "      <th>13</th>\n",
       "      <td>Three Wishes (River of ...</td>\n",
       "      <td>£44.18</td>\n",
       "      <td>In stock</td>\n",
       "      <td>Science_fiction</td>\n",
       "      <td>2024-03-07 10:50:11</td>\n",
       "      <td>Two</td>\n",
       "    </tr>\n",
       "    <tr>\n",
       "      <th>14</th>\n",
       "      <td>The Last Girl (The ...</td>\n",
       "      <td>£36.26</td>\n",
       "      <td>In stock</td>\n",
       "      <td>Science_fiction</td>\n",
       "      <td>2024-03-07 10:50:11</td>\n",
       "      <td>Two</td>\n",
       "    </tr>\n",
       "    <tr>\n",
       "      <th>15</th>\n",
       "      <td>Having the Barbarian's Baby ...</td>\n",
       "      <td>£34.96</td>\n",
       "      <td>In stock</td>\n",
       "      <td>Science_fiction</td>\n",
       "      <td>2024-03-07 10:50:11</td>\n",
       "      <td>Four</td>\n",
       "    </tr>\n",
       "  </tbody>\n",
       "</table>\n",
       "</div>"
      ],
      "text/plain": [
       "                                              Name   Price             Stock  \\\n",
       "0                  Mesaerion: The Best Science ...  £37.59          In stock   \n",
       "1                                             Join  £35.67          In stock   \n",
       "2             William Shakespeare's Star Wars: ...  £43.30          In stock   \n",
       "3                                      The Project  £10.65          In stock   \n",
       "4                                  Soft Apocalypse  £26.12          In stock   \n",
       "5                Sleeping Giants (Themis Files ...  £48.74          In stock   \n",
       "6                                            Arena  £21.36          In stock   \n",
       "7   Foundation (Foundation (Publication Order) ...  £32.42          In stock   \n",
       "8                        The Restaurant at the ...  £10.92          In stock   \n",
       "9                                 Ready Player One  £19.07          In stock   \n",
       "10                      Life, the Universe and ...  £33.26          In stock   \n",
       "11                                  Dune (Dune #1)  £54.86          In stock   \n",
       "12                        Do Androids Dream of ...  £51.48          In stock   \n",
       "13                      Three Wishes (River of ...  £44.18          In stock   \n",
       "14                          The Last Girl (The ...  £36.26          In stock   \n",
       "15                 Having the Barbarian's Baby ...  £34.96          In stock   \n",
       "\n",
       "               Type        Scraping_date star_rating  \n",
       "0   Science_fiction  2024-03-07 10:50:11         One  \n",
       "1   Science_fiction  2024-03-07 10:50:11        Five  \n",
       "2   Science_fiction  2024-03-07 10:50:11        Four  \n",
       "3   Science_fiction  2024-03-07 10:50:11         One  \n",
       "4   Science_fiction  2024-03-07 10:50:11         Two  \n",
       "5   Science_fiction  2024-03-07 10:50:11         One  \n",
       "6   Science_fiction  2024-03-07 10:50:11        Four  \n",
       "7   Science_fiction  2024-03-07 10:50:11         One  \n",
       "8   Science_fiction  2024-03-07 10:50:11         One  \n",
       "9   Science_fiction  2024-03-07 10:50:11        Four  \n",
       "10  Science_fiction  2024-03-07 10:50:11         Two  \n",
       "11  Science_fiction  2024-03-07 10:50:11         One  \n",
       "12  Science_fiction  2024-03-07 10:50:11         One  \n",
       "13  Science_fiction  2024-03-07 10:50:11         Two  \n",
       "14  Science_fiction  2024-03-07 10:50:11         Two  \n",
       "15  Science_fiction  2024-03-07 10:50:11        Four  "
      ]
     },
     "execution_count": 298,
     "metadata": {},
     "output_type": "execute_result"
    }
   ],
   "source": [
    "# Concat of dataframes \n",
    "df_raw_sf = pd.concat([df_detalis_sf, star_rating_sf], axis = 1)\n",
    "df_raw_sf"
   ]
  },
  {
   "cell_type": "markdown",
   "id": "b67d8511-a81d-4ddd-b02f-dd8cbd13d4bf",
   "metadata": {
    "execution": {
     "iopub.execute_input": "2024-03-06T21:32:49.466778Z",
     "iopub.status.busy": "2024-03-06T21:32:49.465025Z",
     "iopub.status.idle": "2024-03-06T21:32:49.474905Z",
     "shell.execute_reply": "2024-03-06T21:32:49.472169Z",
     "shell.execute_reply.started": "2024-03-06T21:32:49.466692Z"
    },
    "jp-MarkdownHeadingCollapsed": true
   },
   "source": [
    "# 3 - Type: Humor"
   ]
  },
  {
   "cell_type": "code",
   "execution_count": 300,
   "id": "bf2d0dbc-5ec1-4199-83e8-83bcbdd1fd73",
   "metadata": {
    "execution": {
     "iopub.execute_input": "2024-03-07T13:56:33.195190Z",
     "iopub.status.busy": "2024-03-07T13:56:33.194480Z",
     "iopub.status.idle": "2024-03-07T13:56:34.154234Z",
     "shell.execute_reply": "2024-03-07T13:56:34.152107Z",
     "shell.execute_reply.started": "2024-03-07T13:56:33.195123Z"
    }
   },
   "outputs": [],
   "source": [
    "url_humor = \"https://books.toscrape.com/catalogue/category/books/humor_30/index.html\"\n",
    "headers = {'User-Agent': 'Mozilla/5.0 (Windows NT 10.0; Win64; x64) AppleWebKit/537.36 (KHTML, like Gecko) Chrome/111.0.0.0 Safari/537.36'}\n",
    "\n",
    "page = requests.get(url_humor, headers = headers)\n",
    "soup = BeautifulSoup(page.text, 'html.parser')"
   ]
  },
  {
   "cell_type": "markdown",
   "id": "9d984565-701b-46f0-ad3a-59cf3960d3b7",
   "metadata": {
    "jp-MarkdownHeadingCollapsed": true
   },
   "source": [
    "## 3.1 Name - Price - Stock - Type "
   ]
  },
  {
   "cell_type": "code",
   "execution_count": 303,
   "id": "b49e68cc-98c4-4c76-b7d2-a3635bac1b14",
   "metadata": {
    "execution": {
     "iopub.execute_input": "2024-03-07T13:58:48.579544Z",
     "iopub.status.busy": "2024-03-07T13:58:48.578816Z",
     "iopub.status.idle": "2024-03-07T13:58:48.606765Z",
     "shell.execute_reply": "2024-03-07T13:58:48.604398Z",
     "shell.execute_reply.started": "2024-03-07T13:58:48.579482Z"
    }
   },
   "outputs": [],
   "source": [
    "products_detalis = soup.find_all('li', class_ = 'col-xs-6 col-sm-4 col-md-3 col-lg-3')\n",
    "products_name_price_stock = [list (filter(None, i.get_text().split('\\n'))) for i in products_detalis ]\n",
    "\n",
    "df_detalis_humor = pd.DataFrame(products_name_price_stock)\n",
    "df_detalis_humor = df_detalis_humor.drop([2, 4, 5], axis =1)\n",
    "df_detalis_humor.columns = ['Name', 'Price', 'Stock']\n",
    "df_detalis_humor['Type'] = 'Humor'\n",
    "df_detalis_humor['Price'] = df_detalis_humor['Price'].str.replace('Â', '')\n",
    "df_detalis_humor['Scraping_date'] = datetime.now().strftime('%Y-%m-%d %H:%M:%S')"
   ]
  },
  {
   "cell_type": "markdown",
   "id": "173e46ab-a648-4570-b3d7-3f11686968e0",
   "metadata": {
    "jp-MarkdownHeadingCollapsed": true
   },
   "source": [
    "## 3.2 Star-Rating"
   ]
  },
  {
   "cell_type": "code",
   "execution_count": 305,
   "id": "a1ad17b8-91fe-4651-8d01-1ee82ba8c0dd",
   "metadata": {
    "execution": {
     "iopub.execute_input": "2024-03-07T14:00:37.860756Z",
     "iopub.status.busy": "2024-03-07T14:00:37.859908Z",
     "iopub.status.idle": "2024-03-07T14:00:37.934658Z",
     "shell.execute_reply": "2024-03-07T14:00:37.933883Z",
     "shell.execute_reply.started": "2024-03-07T14:00:37.860689Z"
    }
   },
   "outputs": [],
   "source": [
    "# Number of results in it page \n",
    "results_humor= list(filter(None,soup.find(class_ = 'form-horizontal').get_text().split('\\n')))\n",
    "results_humor_number = int(results_humor[0].replace('results.', ''))\n",
    "\n",
    "# Star_rating\n",
    "star_rating = []\n",
    "for x in range(results_humor_number):\n",
    "    el = soup.find_all(class_ = 'star-rating')[x]\n",
    "    class_name = el['class']\n",
    "    a = class_name[1]\n",
    "    star_rating.append(a)\n",
    "\n",
    "# Star-rating dataframe \n",
    "star_rating_humor = pd.DataFrame(star_rating)\n",
    "star_rating_humor.columns = ['star_rating']"
   ]
  },
  {
   "cell_type": "markdown",
   "id": "71a6ca9a-091a-46af-92b9-972398dbe19b",
   "metadata": {
    "jp-MarkdownHeadingCollapsed": true
   },
   "source": [
    "## 3.3 DataFrame raw Humor"
   ]
  },
  {
   "cell_type": "code",
   "execution_count": 308,
   "id": "4d026665-854d-436c-93d9-46dda732c0b4",
   "metadata": {
    "execution": {
     "iopub.execute_input": "2024-03-07T14:02:14.919490Z",
     "iopub.status.busy": "2024-03-07T14:02:14.918521Z",
     "iopub.status.idle": "2024-03-07T14:02:14.949450Z",
     "shell.execute_reply": "2024-03-07T14:02:14.947626Z",
     "shell.execute_reply.started": "2024-03-07T14:02:14.919421Z"
    }
   },
   "outputs": [
    {
     "data": {
      "text/html": [
       "<div>\n",
       "<style scoped>\n",
       "    .dataframe tbody tr th:only-of-type {\n",
       "        vertical-align: middle;\n",
       "    }\n",
       "\n",
       "    .dataframe tbody tr th {\n",
       "        vertical-align: top;\n",
       "    }\n",
       "\n",
       "    .dataframe thead th {\n",
       "        text-align: right;\n",
       "    }\n",
       "</style>\n",
       "<table border=\"1\" class=\"dataframe\">\n",
       "  <thead>\n",
       "    <tr style=\"text-align: right;\">\n",
       "      <th></th>\n",
       "      <th>Name</th>\n",
       "      <th>Price</th>\n",
       "      <th>Stock</th>\n",
       "      <th>Type</th>\n",
       "      <th>Scraping_date</th>\n",
       "      <th>star_rating</th>\n",
       "    </tr>\n",
       "  </thead>\n",
       "  <tbody>\n",
       "    <tr>\n",
       "      <th>0</th>\n",
       "      <td>The Long Haul (Diary ...</td>\n",
       "      <td>£44.07</td>\n",
       "      <td>In stock</td>\n",
       "      <td>Humor</td>\n",
       "      <td>2024-03-07 10:58:48</td>\n",
       "      <td>One</td>\n",
       "    </tr>\n",
       "    <tr>\n",
       "      <th>1</th>\n",
       "      <td>Old School (Diary of ...</td>\n",
       "      <td>£11.83</td>\n",
       "      <td>In stock</td>\n",
       "      <td>Humor</td>\n",
       "      <td>2024-03-07 10:58:48</td>\n",
       "      <td>Five</td>\n",
       "    </tr>\n",
       "    <tr>\n",
       "      <th>2</th>\n",
       "      <td>I Know What I'm ...</td>\n",
       "      <td>£25.98</td>\n",
       "      <td>In stock</td>\n",
       "      <td>Humor</td>\n",
       "      <td>2024-03-07 10:58:48</td>\n",
       "      <td>Four</td>\n",
       "    </tr>\n",
       "    <tr>\n",
       "      <th>3</th>\n",
       "      <td>Hyperbole and a Half: ...</td>\n",
       "      <td>£14.75</td>\n",
       "      <td>In stock</td>\n",
       "      <td>Humor</td>\n",
       "      <td>2024-03-07 10:58:48</td>\n",
       "      <td>Five</td>\n",
       "    </tr>\n",
       "    <tr>\n",
       "      <th>4</th>\n",
       "      <td>Dress Your Family in ...</td>\n",
       "      <td>£43.68</td>\n",
       "      <td>In stock</td>\n",
       "      <td>Humor</td>\n",
       "      <td>2024-03-07 10:58:48</td>\n",
       "      <td>Three</td>\n",
       "    </tr>\n",
       "    <tr>\n",
       "      <th>5</th>\n",
       "      <td>Toddlers Are A**holes: It's ...</td>\n",
       "      <td>£25.55</td>\n",
       "      <td>In stock</td>\n",
       "      <td>Humor</td>\n",
       "      <td>2024-03-07 10:58:48</td>\n",
       "      <td>One</td>\n",
       "    </tr>\n",
       "    <tr>\n",
       "      <th>6</th>\n",
       "      <td>When You Are Engulfed ...</td>\n",
       "      <td>£30.89</td>\n",
       "      <td>In stock</td>\n",
       "      <td>Humor</td>\n",
       "      <td>2024-03-07 10:58:48</td>\n",
       "      <td>Five</td>\n",
       "    </tr>\n",
       "    <tr>\n",
       "      <th>7</th>\n",
       "      <td>Naked</td>\n",
       "      <td>£31.69</td>\n",
       "      <td>In stock</td>\n",
       "      <td>Humor</td>\n",
       "      <td>2024-03-07 10:58:48</td>\n",
       "      <td>Three</td>\n",
       "    </tr>\n",
       "    <tr>\n",
       "      <th>8</th>\n",
       "      <td>Lamb: The Gospel According ...</td>\n",
       "      <td>£55.50</td>\n",
       "      <td>In stock</td>\n",
       "      <td>Humor</td>\n",
       "      <td>2024-03-07 10:58:48</td>\n",
       "      <td>Five</td>\n",
       "    </tr>\n",
       "    <tr>\n",
       "      <th>9</th>\n",
       "      <td>Holidays on Ice</td>\n",
       "      <td>£51.07</td>\n",
       "      <td>In stock</td>\n",
       "      <td>Humor</td>\n",
       "      <td>2024-03-07 10:58:48</td>\n",
       "      <td>Two</td>\n",
       "    </tr>\n",
       "  </tbody>\n",
       "</table>\n",
       "</div>"
      ],
      "text/plain": [
       "                              Name   Price             Stock   Type  \\\n",
       "0         The Long Haul (Diary ...  £44.07          In stock  Humor   \n",
       "1         Old School (Diary of ...  £11.83          In stock  Humor   \n",
       "2              I Know What I'm ...  £25.98          In stock  Humor   \n",
       "3        Hyperbole and a Half: ...  £14.75          In stock  Humor   \n",
       "4         Dress Your Family in ...  £43.68          In stock  Humor   \n",
       "5  Toddlers Are A**holes: It's ...  £25.55          In stock  Humor   \n",
       "6        When You Are Engulfed ...  £30.89          In stock  Humor   \n",
       "7                            Naked  £31.69          In stock  Humor   \n",
       "8   Lamb: The Gospel According ...  £55.50          In stock  Humor   \n",
       "9                  Holidays on Ice  £51.07          In stock  Humor   \n",
       "\n",
       "         Scraping_date star_rating  \n",
       "0  2024-03-07 10:58:48         One  \n",
       "1  2024-03-07 10:58:48        Five  \n",
       "2  2024-03-07 10:58:48        Four  \n",
       "3  2024-03-07 10:58:48        Five  \n",
       "4  2024-03-07 10:58:48       Three  \n",
       "5  2024-03-07 10:58:48         One  \n",
       "6  2024-03-07 10:58:48        Five  \n",
       "7  2024-03-07 10:58:48       Three  \n",
       "8  2024-03-07 10:58:48        Five  \n",
       "9  2024-03-07 10:58:48         Two  "
      ]
     },
     "execution_count": 308,
     "metadata": {},
     "output_type": "execute_result"
    }
   ],
   "source": [
    "# Concat of dataframes \n",
    "df_raw_humor = pd.concat([df_detalis_humor, star_rating_humor], axis = 1)\n",
    "df_raw_humor"
   ]
  },
  {
   "cell_type": "markdown",
   "id": "56ccf150-1cac-45d4-8884-a5e91bfb9bd6",
   "metadata": {
    "jp-MarkdownHeadingCollapsed": true
   },
   "source": [
    "# 4 - Type: Business"
   ]
  },
  {
   "cell_type": "code",
   "execution_count": 311,
   "id": "6dc3cc94-3c9b-4aa8-8be2-94fefed4a186",
   "metadata": {
    "execution": {
     "iopub.execute_input": "2024-03-07T14:13:49.714165Z",
     "iopub.status.busy": "2024-03-07T14:13:49.712875Z",
     "iopub.status.idle": "2024-03-07T14:13:50.865744Z",
     "shell.execute_reply": "2024-03-07T14:13:50.863770Z",
     "shell.execute_reply.started": "2024-03-07T14:13:49.714087Z"
    }
   },
   "outputs": [],
   "source": [
    "url_business = \"https://books.toscrape.com/catalogue/category/books/business_35/index.html\"\n",
    "headers = {'User-Agent': 'Mozilla/5.0 (Windows NT 10.0; Win64; x64) AppleWebKit/537.36 (KHTML, like Gecko) Chrome/111.0.0.0 Safari/537.36'}\n",
    "\n",
    "page = requests.get(url_business, headers = headers)\n",
    "soup = BeautifulSoup(page.text, 'html.parser')"
   ]
  },
  {
   "cell_type": "markdown",
   "id": "f100a4a0-01bb-4e46-bc90-2f22f53d899a",
   "metadata": {
    "jp-MarkdownHeadingCollapsed": true
   },
   "source": [
    "## 3.1 Name - Price - Stock - Type "
   ]
  },
  {
   "cell_type": "code",
   "execution_count": 312,
   "id": "732edf8a-1c9a-4a43-ac49-e1c6269ad231",
   "metadata": {
    "execution": {
     "iopub.execute_input": "2024-03-07T14:13:51.525996Z",
     "iopub.status.busy": "2024-03-07T14:13:51.524307Z",
     "iopub.status.idle": "2024-03-07T14:13:51.558031Z",
     "shell.execute_reply": "2024-03-07T14:13:51.556530Z",
     "shell.execute_reply.started": "2024-03-07T14:13:51.525881Z"
    }
   },
   "outputs": [],
   "source": [
    "products_detalis = soup.find_all('li', class_ = 'col-xs-6 col-sm-4 col-md-3 col-lg-3')\n",
    "products_name_price_stock = [list (filter(None, i.get_text().split('\\n'))) for i in products_detalis ]\n",
    "\n",
    "df_detalis_business = pd.DataFrame(products_name_price_stock)\n",
    "df_detalis_business = df_detalis_business.drop([2, 4, 5], axis =1)\n",
    "df_detalis_business.columns = ['Name', 'Price', 'Stock']\n",
    "df_detalis_business['Type'] = 'Business'\n",
    "df_detalis_business['Price'] = df_detalis_business['Price'].str.replace('Â', '')\n",
    "df_detalis_business['Scraping_date'] = datetime.now().strftime('%Y-%m-%d %H:%M:%S')"
   ]
  },
  {
   "cell_type": "markdown",
   "id": "9107cc90-bf4d-4ff0-b523-3c4c84150d82",
   "metadata": {
    "jp-MarkdownHeadingCollapsed": true
   },
   "source": [
    "## 3.2 Star-Rating"
   ]
  },
  {
   "cell_type": "code",
   "execution_count": 314,
   "id": "96cc367b-a870-4ee3-a032-ff87532017de",
   "metadata": {
    "execution": {
     "iopub.execute_input": "2024-03-07T14:16:52.149325Z",
     "iopub.status.busy": "2024-03-07T14:16:52.147908Z",
     "iopub.status.idle": "2024-03-07T14:16:52.220748Z",
     "shell.execute_reply": "2024-03-07T14:16:52.219631Z",
     "shell.execute_reply.started": "2024-03-07T14:16:52.149243Z"
    }
   },
   "outputs": [],
   "source": [
    "# Number of results in it page \n",
    "results_business= list(filter(None,soup.find(class_ = 'form-horizontal').get_text().split('\\n')))\n",
    "results_business_number = int(results_business[0].replace('results.', ''))\n",
    "\n",
    "# Star_rating\n",
    "star_rating = []\n",
    "for x in range(results_business_number):\n",
    "    el = soup.find_all(class_ = 'star-rating')[x]\n",
    "    class_name = el['class']\n",
    "    a = class_name[1]\n",
    "    star_rating.append(a)\n",
    "\n",
    "# Star-rating dataframe \n",
    "star_rating_business = pd.DataFrame(star_rating)\n",
    "star_rating_business.columns = ['star_rating']"
   ]
  },
  {
   "cell_type": "markdown",
   "id": "48826252-1b69-4737-ac3d-175749f079cb",
   "metadata": {
    "jp-MarkdownHeadingCollapsed": true
   },
   "source": [
    "## 3.3 DataFrame raw Business"
   ]
  },
  {
   "cell_type": "code",
   "execution_count": 316,
   "id": "53ce4e3f-c8e5-4f8c-a72b-99d35c7b6b7d",
   "metadata": {
    "execution": {
     "iopub.execute_input": "2024-03-07T14:18:16.980468Z",
     "iopub.status.busy": "2024-03-07T14:18:16.978814Z",
     "iopub.status.idle": "2024-03-07T14:18:17.020972Z",
     "shell.execute_reply": "2024-03-07T14:18:17.019295Z",
     "shell.execute_reply.started": "2024-03-07T14:18:16.980364Z"
    }
   },
   "outputs": [
    {
     "data": {
      "text/html": [
       "<div>\n",
       "<style scoped>\n",
       "    .dataframe tbody tr th:only-of-type {\n",
       "        vertical-align: middle;\n",
       "    }\n",
       "\n",
       "    .dataframe tbody tr th {\n",
       "        vertical-align: top;\n",
       "    }\n",
       "\n",
       "    .dataframe thead th {\n",
       "        text-align: right;\n",
       "    }\n",
       "</style>\n",
       "<table border=\"1\" class=\"dataframe\">\n",
       "  <thead>\n",
       "    <tr style=\"text-align: right;\">\n",
       "      <th></th>\n",
       "      <th>Name</th>\n",
       "      <th>Price</th>\n",
       "      <th>Stock</th>\n",
       "      <th>Type</th>\n",
       "      <th>Scraping_date</th>\n",
       "      <th>star_rating</th>\n",
       "    </tr>\n",
       "  </thead>\n",
       "  <tbody>\n",
       "    <tr>\n",
       "      <th>0</th>\n",
       "      <td>The Dirty Little Secrets ...</td>\n",
       "      <td>£33.34</td>\n",
       "      <td>In stock</td>\n",
       "      <td>Business</td>\n",
       "      <td>2024-03-07 11:13:51</td>\n",
       "      <td>Four</td>\n",
       "    </tr>\n",
       "    <tr>\n",
       "      <th>1</th>\n",
       "      <td>The Third Wave: An ...</td>\n",
       "      <td>£12.61</td>\n",
       "      <td>In stock</td>\n",
       "      <td>Business</td>\n",
       "      <td>2024-03-07 11:13:51</td>\n",
       "      <td>Five</td>\n",
       "    </tr>\n",
       "    <tr>\n",
       "      <th>2</th>\n",
       "      <td>The 10% Entrepreneur: Live ...</td>\n",
       "      <td>£27.55</td>\n",
       "      <td>In stock</td>\n",
       "      <td>Business</td>\n",
       "      <td>2024-03-07 11:13:51</td>\n",
       "      <td>Three</td>\n",
       "    </tr>\n",
       "    <tr>\n",
       "      <th>3</th>\n",
       "      <td>Shoe Dog: A Memoir ...</td>\n",
       "      <td>£23.99</td>\n",
       "      <td>In stock</td>\n",
       "      <td>Business</td>\n",
       "      <td>2024-03-07 11:13:51</td>\n",
       "      <td>Two</td>\n",
       "    </tr>\n",
       "    <tr>\n",
       "      <th>4</th>\n",
       "      <td>Made to Stick: Why ...</td>\n",
       "      <td>£38.85</td>\n",
       "      <td>In stock</td>\n",
       "      <td>Business</td>\n",
       "      <td>2024-03-07 11:13:51</td>\n",
       "      <td>Five</td>\n",
       "    </tr>\n",
       "    <tr>\n",
       "      <th>5</th>\n",
       "      <td>Quench Your Own Thirst: ...</td>\n",
       "      <td>£43.14</td>\n",
       "      <td>In stock</td>\n",
       "      <td>Business</td>\n",
       "      <td>2024-03-07 11:13:51</td>\n",
       "      <td>One</td>\n",
       "    </tr>\n",
       "    <tr>\n",
       "      <th>6</th>\n",
       "      <td>The Art of Startup ...</td>\n",
       "      <td>£21.00</td>\n",
       "      <td>In stock</td>\n",
       "      <td>Business</td>\n",
       "      <td>2024-03-07 11:13:51</td>\n",
       "      <td>Three</td>\n",
       "    </tr>\n",
       "    <tr>\n",
       "      <th>7</th>\n",
       "      <td>Born for This: How ...</td>\n",
       "      <td>£21.59</td>\n",
       "      <td>In stock</td>\n",
       "      <td>Business</td>\n",
       "      <td>2024-03-07 11:13:51</td>\n",
       "      <td>Five</td>\n",
       "    </tr>\n",
       "    <tr>\n",
       "      <th>8</th>\n",
       "      <td>The E-Myth Revisited: Why ...</td>\n",
       "      <td>£36.91</td>\n",
       "      <td>In stock</td>\n",
       "      <td>Business</td>\n",
       "      <td>2024-03-07 11:13:51</td>\n",
       "      <td>One</td>\n",
       "    </tr>\n",
       "    <tr>\n",
       "      <th>9</th>\n",
       "      <td>Rich Dad, Poor Dad</td>\n",
       "      <td>£51.74</td>\n",
       "      <td>In stock</td>\n",
       "      <td>Business</td>\n",
       "      <td>2024-03-07 11:13:51</td>\n",
       "      <td>One</td>\n",
       "    </tr>\n",
       "    <tr>\n",
       "      <th>10</th>\n",
       "      <td>The Lean Startup: How ...</td>\n",
       "      <td>£33.92</td>\n",
       "      <td>In stock</td>\n",
       "      <td>Business</td>\n",
       "      <td>2024-03-07 11:13:51</td>\n",
       "      <td>Three</td>\n",
       "    </tr>\n",
       "    <tr>\n",
       "      <th>11</th>\n",
       "      <td>Rework</td>\n",
       "      <td>£44.88</td>\n",
       "      <td>In stock</td>\n",
       "      <td>Business</td>\n",
       "      <td>2024-03-07 11:13:51</td>\n",
       "      <td>Two</td>\n",
       "    </tr>\n",
       "  </tbody>\n",
       "</table>\n",
       "</div>"
      ],
      "text/plain": [
       "                              Name   Price             Stock      Type  \\\n",
       "0     The Dirty Little Secrets ...  £33.34          In stock  Business   \n",
       "1           The Third Wave: An ...  £12.61          In stock  Business   \n",
       "2   The 10% Entrepreneur: Live ...  £27.55          In stock  Business   \n",
       "3           Shoe Dog: A Memoir ...  £23.99          In stock  Business   \n",
       "4           Made to Stick: Why ...  £38.85          In stock  Business   \n",
       "5      Quench Your Own Thirst: ...  £43.14          In stock  Business   \n",
       "6           The Art of Startup ...  £21.00          In stock  Business   \n",
       "7           Born for This: How ...  £21.59          In stock  Business   \n",
       "8    The E-Myth Revisited: Why ...  £36.91          In stock  Business   \n",
       "9               Rich Dad, Poor Dad  £51.74          In stock  Business   \n",
       "10       The Lean Startup: How ...  £33.92          In stock  Business   \n",
       "11                          Rework  £44.88          In stock  Business   \n",
       "\n",
       "          Scraping_date star_rating  \n",
       "0   2024-03-07 11:13:51        Four  \n",
       "1   2024-03-07 11:13:51        Five  \n",
       "2   2024-03-07 11:13:51       Three  \n",
       "3   2024-03-07 11:13:51         Two  \n",
       "4   2024-03-07 11:13:51        Five  \n",
       "5   2024-03-07 11:13:51         One  \n",
       "6   2024-03-07 11:13:51       Three  \n",
       "7   2024-03-07 11:13:51        Five  \n",
       "8   2024-03-07 11:13:51         One  \n",
       "9   2024-03-07 11:13:51         One  \n",
       "10  2024-03-07 11:13:51       Three  \n",
       "11  2024-03-07 11:13:51         Two  "
      ]
     },
     "execution_count": 316,
     "metadata": {},
     "output_type": "execute_result"
    }
   ],
   "source": [
    "# Concat of dataframes \n",
    "df_raw_business = pd.concat([df_detalis_business, star_rating_business], axis = 1)\n",
    "df_raw_business"
   ]
  },
  {
   "cell_type": "markdown",
   "id": "43af1e26-267a-4f12-81b2-65f9e6d55ad0",
   "metadata": {
    "execution": {
     "iopub.execute_input": "2024-03-07T14:18:59.921743Z",
     "iopub.status.busy": "2024-03-07T14:18:59.921067Z",
     "iopub.status.idle": "2024-03-07T14:18:59.929932Z",
     "shell.execute_reply": "2024-03-07T14:18:59.927487Z",
     "shell.execute_reply.started": "2024-03-07T14:18:59.921685Z"
    },
    "jp-MarkdownHeadingCollapsed": true
   },
   "source": [
    "# 4- Concat of all dataframes raw"
   ]
  },
  {
   "cell_type": "code",
   "execution_count": 335,
   "id": "446692fc-6d68-4476-a7c4-3dd075639a5c",
   "metadata": {
    "execution": {
     "iopub.execute_input": "2024-03-07T14:28:03.185699Z",
     "iopub.status.busy": "2024-03-07T14:28:03.185036Z",
     "iopub.status.idle": "2024-03-07T14:28:03.196612Z",
     "shell.execute_reply": "2024-03-07T14:28:03.194415Z",
     "shell.execute_reply.started": "2024-03-07T14:28:03.185641Z"
    }
   },
   "outputs": [],
   "source": [
    "df_raw = pd.concat([df_raw_classic, df_raw_sf, df_raw_humor, df_raw_business], axis= 0, ignore_index = True)"
   ]
  },
  {
   "cell_type": "code",
   "execution_count": 344,
   "id": "daa01168-bc0a-42de-aafb-e8af4c75abde",
   "metadata": {
    "execution": {
     "iopub.execute_input": "2024-03-07T14:35:23.796838Z",
     "iopub.status.busy": "2024-03-07T14:35:23.795289Z",
     "iopub.status.idle": "2024-03-07T14:35:23.807807Z",
     "shell.execute_reply": "2024-03-07T14:35:23.805517Z",
     "shell.execute_reply.started": "2024-03-07T14:35:23.796760Z"
    }
   },
   "outputs": [],
   "source": [
    "# Transform in csv\n",
    "df_raw.to_csv('data_raw.csv', sep=',', index=False, encoding='utf-8')"
   ]
  }
 ],
 "metadata": {
  "kernelspec": {
   "display_name": "Python 3 (ipykernel)",
   "language": "python",
   "name": "python3"
  },
  "language_info": {
   "codemirror_mode": {
    "name": "ipython",
    "version": 3
   },
   "file_extension": ".py",
   "mimetype": "text/x-python",
   "name": "python",
   "nbconvert_exporter": "python",
   "pygments_lexer": "ipython3",
   "version": "3.9.18"
  }
 },
 "nbformat": 4,
 "nbformat_minor": 5
}
