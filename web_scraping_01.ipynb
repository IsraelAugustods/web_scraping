{
 "cells": [
  {
   "cell_type": "markdown",
   "id": "c58a2991-9c81-4355-8e3f-740a7bece996",
   "metadata": {
    "jp-MarkdownHeadingCollapsed": true
   },
   "source": [
    "# 0 - IMPORTS "
   ]
  },
  {
   "cell_type": "code",
   "execution_count": 227,
   "id": "2cf6d4da-e3ca-4e55-9430-4e59d6491b20",
   "metadata": {
    "execution": {
     "iopub.execute_input": "2024-03-06T20:31:42.981567Z",
     "iopub.status.busy": "2024-03-06T20:31:42.980224Z",
     "iopub.status.idle": "2024-03-06T20:31:42.990751Z",
     "shell.execute_reply": "2024-03-06T20:31:42.988516Z",
     "shell.execute_reply.started": "2024-03-06T20:31:42.981436Z"
    }
   },
   "outputs": [],
   "source": [
    "from bs4 import BeautifulSoup\n",
    "from datetime import datetime\n",
    "\n",
    "import requests\n",
    "import pandas as pd\n",
    "import numpy as np "
   ]
  },
  {
   "cell_type": "markdown",
   "id": "821d5515-b500-42a4-b4c7-d932d5d20cec",
   "metadata": {
    "jp-MarkdownHeadingCollapsed": true
   },
   "source": [
    "# 1 - START "
   ]
  },
  {
   "cell_type": "code",
   "execution_count": 2,
   "id": "96af6d3e-3f32-4710-9e22-7ab5d15d4b0c",
   "metadata": {
    "execution": {
     "iopub.execute_input": "2024-03-06T11:53:32.174271Z",
     "iopub.status.busy": "2024-03-06T11:53:32.173539Z",
     "iopub.status.idle": "2024-03-06T11:53:32.181167Z",
     "shell.execute_reply": "2024-03-06T11:53:32.179406Z",
     "shell.execute_reply.started": "2024-03-06T11:53:32.174212Z"
    }
   },
   "outputs": [],
   "source": [
    "html_doc = \"\"\"\n",
    "<html><head><title>The Dormouse's story</title></head>\n",
    "<body>\n",
    "<p class=\"title\"><b>The Dormouse's story</b></p>\n",
    "\n",
    "<p class=\"story\">Once upon a time there were three little sisters; and their names were\n",
    "<a href=\"http://example.com/elsie\" class=\"sister\" id=\"link1\">Elsie</a>,\n",
    "<a href=\"http://example.com/lacie\" class=\"sister\" id=\"link2\">Lacie</a> and\n",
    "<a href=\"http://example.com/tillie\" class=\"sister\" id=\"link3\">Tillie</a>;\n",
    "and they lived at the bottom of a well.</p>\n",
    "\n",
    "<p class=\"story\">...</p>\n",
    "\"\"\"\n"
   ]
  },
  {
   "cell_type": "code",
   "execution_count": 3,
   "id": "77e72809-ef81-4ddd-8483-528ddd030f7f",
   "metadata": {
    "execution": {
     "iopub.execute_input": "2024-03-06T11:53:32.424404Z",
     "iopub.status.busy": "2024-03-06T11:53:32.423753Z",
     "iopub.status.idle": "2024-03-06T11:53:32.434026Z",
     "shell.execute_reply": "2024-03-06T11:53:32.431792Z",
     "shell.execute_reply.started": "2024-03-06T11:53:32.424345Z"
    }
   },
   "outputs": [],
   "source": [
    "soup = BeautifulSoup(html_doc, 'html.parser')"
   ]
  },
  {
   "cell_type": "code",
   "execution_count": 4,
   "id": "7659fa53-b922-4bdb-9252-b08b3c0fee76",
   "metadata": {
    "execution": {
     "iopub.execute_input": "2024-03-06T11:53:32.971139Z",
     "iopub.status.busy": "2024-03-06T11:53:32.970376Z",
     "iopub.status.idle": "2024-03-06T11:53:33.008315Z",
     "shell.execute_reply": "2024-03-06T11:53:33.006250Z",
     "shell.execute_reply.started": "2024-03-06T11:53:32.971059Z"
    }
   },
   "outputs": [
    {
     "data": {
      "text/plain": [
       "\n",
       "<html><head><title>The Dormouse's story</title></head>\n",
       "<body>\n",
       "<p class=\"title\"><b>The Dormouse's story</b></p>\n",
       "<p class=\"story\">Once upon a time there were three little sisters; and their names were\n",
       "<a class=\"sister\" href=\"http://example.com/elsie\" id=\"link1\">Elsie</a>,\n",
       "<a class=\"sister\" href=\"http://example.com/lacie\" id=\"link2\">Lacie</a> and\n",
       "<a class=\"sister\" href=\"http://example.com/tillie\" id=\"link3\">Tillie</a>;\n",
       "and they lived at the bottom of a well.</p>\n",
       "<p class=\"story\">...</p>\n",
       "</body></html>"
      ]
     },
     "execution_count": 4,
     "metadata": {},
     "output_type": "execute_result"
    }
   ],
   "source": [
    "soup "
   ]
  },
  {
   "cell_type": "code",
   "execution_count": 5,
   "id": "9b2f812a-8ac0-43a2-8151-375ebc054872",
   "metadata": {
    "execution": {
     "iopub.execute_input": "2024-03-06T11:53:33.380761Z",
     "iopub.status.busy": "2024-03-06T11:53:33.379658Z",
     "iopub.status.idle": "2024-03-06T11:53:33.399063Z",
     "shell.execute_reply": "2024-03-06T11:53:33.397173Z",
     "shell.execute_reply.started": "2024-03-06T11:53:33.380677Z"
    }
   },
   "outputs": [
    {
     "data": {
      "text/plain": [
       "<body>\n",
       "<p class=\"title\"><b>The Dormouse's story</b></p>\n",
       "<p class=\"story\">Once upon a time there were three little sisters; and their names were\n",
       "<a class=\"sister\" href=\"http://example.com/elsie\" id=\"link1\">Elsie</a>,\n",
       "<a class=\"sister\" href=\"http://example.com/lacie\" id=\"link2\">Lacie</a> and\n",
       "<a class=\"sister\" href=\"http://example.com/tillie\" id=\"link3\">Tillie</a>;\n",
       "and they lived at the bottom of a well.</p>\n",
       "<p class=\"story\">...</p>\n",
       "</body>"
      ]
     },
     "execution_count": 5,
     "metadata": {},
     "output_type": "execute_result"
    }
   ],
   "source": [
    "soup.body "
   ]
  },
  {
   "cell_type": "code",
   "execution_count": 6,
   "id": "9ee932d3-7fde-43ca-a75f-5853d7c77423",
   "metadata": {
    "execution": {
     "iopub.execute_input": "2024-03-06T11:53:33.805112Z",
     "iopub.status.busy": "2024-03-06T11:53:33.804709Z",
     "iopub.status.idle": "2024-03-06T11:53:33.818312Z",
     "shell.execute_reply": "2024-03-06T11:53:33.816408Z",
     "shell.execute_reply.started": "2024-03-06T11:53:33.805070Z"
    }
   },
   "outputs": [
    {
     "data": {
      "text/plain": [
       "'Lacie'"
      ]
     },
     "execution_count": 6,
     "metadata": {},
     "output_type": "execute_result"
    }
   ],
   "source": [
    "soup.find_all( 'a', id = 'link2')[0].string"
   ]
  },
  {
   "cell_type": "markdown",
   "id": "862b01b2-64e4-4747-b376-848ca238c77f",
   "metadata": {
    "jp-MarkdownHeadingCollapsed": true
   },
   "source": [
    "# 2 - Data Extraction (H&M) - Showcase page data"
   ]
  },
  {
   "cell_type": "code",
   "execution_count": null,
   "id": "b2a590ca-94a0-4070-9668-0733a9205244",
   "metadata": {
    "execution": {
     "iopub.execute_input": "2024-03-06T11:53:34.715102Z",
     "iopub.status.busy": "2024-03-06T11:53:34.714649Z",
     "iopub.status.idle": "2024-03-06T11:53:36.758068Z",
     "shell.execute_reply": "2024-03-06T11:53:36.756688Z",
     "shell.execute_reply.started": "2024-03-06T11:53:34.715045Z"
    }
   },
   "outputs": [],
   "source": [
    "url = 'https://www2.hm.com/en_us/men/products/jeans.html'\n",
    "headers = {'User-Agent': 'Mozilla/5.0 (Windows NT 10.0; Win64; x64) AppleWebKit/537.36 (KHTML, like Gecko) Chrome/111.0.0.0 Safari/537.36'}\n",
    "page = requests.get( url, headers = headers)\n",
    "\n",
    "soup = BeautifulSoup(page.text, 'html.parser')\n",
    "\n",
    "products = soup.find('ul', class_ = 'products-listing small')\n",
    "\n",
    "products_list = products.find_all('article', class_ = 'hm-product-item' )"
   ]
  },
  {
   "cell_type": "code",
   "execution_count": null,
   "id": "b71415f1-ff0e-4648-b304-59d33e614e9e",
   "metadata": {
    "execution": {
     "iopub.execute_input": "2024-03-06T12:03:27.046164Z",
     "iopub.status.busy": "2024-03-06T12:03:27.045373Z",
     "iopub.status.idle": "2024-03-06T12:03:27.055985Z",
     "shell.execute_reply": "2024-03-06T12:03:27.053543Z",
     "shell.execute_reply.started": "2024-03-06T12:03:27.046091Z"
    }
   },
   "outputs": [],
   "source": [
    "# Products ID\n",
    "products_id = [n.get('data-articlecode')for n in products_list]\n",
    "\n",
    "# Products Category \n",
    "products_category = [n.get('data-category')for n in products_list]\n",
    "\n",
    "# Product name by link class\n",
    "products_list1 = products.find_all('a', class_ = 'link')\n",
    "\n",
    "# Products names\n",
    "products_names = [p.get_text()for p in products_list1]\n",
    "\n",
    "# Producs Price \n",
    "price = products.find_all('span', class_ = 'price regular')\n",
    "products_price = [p.get_text() for p in price]"
   ]
  },
  {
   "cell_type": "code",
   "execution_count": 64,
   "id": "aceaf34f-ddbd-48b9-8816-f6a1f8576b09",
   "metadata": {
    "execution": {
     "iopub.execute_input": "2024-03-06T12:32:28.754881Z",
     "iopub.status.busy": "2024-03-06T12:32:28.754125Z",
     "iopub.status.idle": "2024-03-06T12:32:28.772574Z",
     "shell.execute_reply": "2024-03-06T12:32:28.769888Z",
     "shell.execute_reply.started": "2024-03-06T12:32:28.754810Z"
    }
   },
   "outputs": [],
   "source": [
    "data = pd.DataFrame([products_id, products_category, products_names, products_price ]).T\n",
    "data.columns = ['products_id', 'products_category', 'products_names', 'products_price']\n",
    "\n",
    "# Scrapy datetime\n",
    "data['scrapy_time'] = datetime.now().strftime('%Y-%m-%d %H:%M:%S')"
   ]
  },
  {
   "cell_type": "markdown",
   "id": "12dfd1f9-4278-4d45-b3a4-0d59fa956be2",
   "metadata": {
    "jp-MarkdownHeadingCollapsed": true
   },
   "source": [
    "# 3 - Pagination at H&M"
   ]
  },
  {
   "cell_type": "code",
   "execution_count": null,
   "id": "4f611666-254b-4906-9319-0412fe06691c",
   "metadata": {
    "execution": {
     "iopub.execute_input": "2024-03-06T19:56:24.145868Z",
     "iopub.status.busy": "2024-03-06T19:56:24.145082Z",
     "iopub.status.idle": "2024-03-06T19:56:28.427777Z",
     "shell.execute_reply": "2024-03-06T19:56:28.426536Z",
     "shell.execute_reply.started": "2024-03-06T19:56:24.145800Z"
    }
   },
   "outputs": [],
   "source": [
    "# Pagination\n",
    "headers = {'User-Agent': 'Mozilla/5.0 (Windows NT 10.0; Win64; x64) AppleWebKit/537.36 (KHTML, like Gecko) Chrome/111.0.0.0 Safari/537.36'}\n",
    "url = \"https://www2.hm.com/en_us/men/products/jeans.html\"\n",
    "page = requests.get( url, headers = headers)\n",
    "soup = BeautifulSoup(page.text, 'html.parser')\n",
    "total_item = soup.find_all('h2', class_ = 'load-more-heading')[0].get('data-total')\n",
    "page_number = np.round (int(total_item) / 36)\n",
    "url02 = url + '?page-size=' + str(int(page_number * 36 ))"
   ]
  },
  {
   "cell_type": "code",
   "execution_count": null,
   "id": "dc423b23-4c88-442b-a043-8506e32dc1f9",
   "metadata": {
    "execution": {
     "iopub.execute_input": "2024-03-06T19:56:24.145868Z",
     "iopub.status.busy": "2024-03-06T19:56:24.145082Z",
     "iopub.status.idle": "2024-03-06T19:56:28.427777Z",
     "shell.execute_reply": "2024-03-06T19:56:28.426536Z",
     "shell.execute_reply.started": "2024-03-06T19:56:24.145800Z"
    }
   },
   "outputs": [],
   "source": [
    "# Requests with url02\n",
    "headers = {'User-Agent': 'Mozilla/5.0 (Windows NT 10.0; Win64; x64) AppleWebKit/537.36 (KHTML, like Gecko) Chrome/111.0.0.0 Safari/537.36'}\n",
    "page = requests.get( url02, headers = headers)\n",
    "soup = BeautifulSoup(page.text, 'html.parser')\n",
    "products = soup.find('ul', class_ = 'products-listing small')\n",
    "products_list = products.find_all('article', class_ = 'hm-product-item' )"
   ]
  },
  {
   "cell_type": "code",
   "execution_count": 210,
   "id": "b4363d47-6b31-490e-b7fc-0e039a9834a5",
   "metadata": {
    "execution": {
     "iopub.execute_input": "2024-03-06T19:56:47.223861Z",
     "iopub.status.busy": "2024-03-06T19:56:47.223454Z",
     "iopub.status.idle": "2024-03-06T19:56:47.280514Z",
     "shell.execute_reply": "2024-03-06T19:56:47.279612Z",
     "shell.execute_reply.started": "2024-03-06T19:56:47.223822Z"
    }
   },
   "outputs": [],
   "source": [
    "# Products ID\n",
    "products_id = [n.get('data-articlecode')for n in products_list]\n",
    "\n",
    "# Products Category \n",
    "products_category = [n.get('data-category')for n in products_list]\n",
    "\n",
    "# Product name by link class\n",
    "products_list1 = products.find_all('a', class_ = 'link')\n",
    "\n",
    "# Products names\n",
    "products_names = [p.get_text()for p in products_list1]\n",
    "\n",
    "# Producs Price \n",
    "price = products.find_all('span', class_ = 'price regular')\n",
    "products_price = [p.get_text() for p in price]"
   ]
  },
  {
   "cell_type": "code",
   "execution_count": 211,
   "id": "c9c5796c-784e-4c36-840a-4d8ba4febc65",
   "metadata": {
    "execution": {
     "iopub.execute_input": "2024-03-06T19:56:49.685118Z",
     "iopub.status.busy": "2024-03-06T19:56:49.684289Z",
     "iopub.status.idle": "2024-03-06T19:56:49.713135Z",
     "shell.execute_reply": "2024-03-06T19:56:49.710534Z",
     "shell.execute_reply.started": "2024-03-06T19:56:49.685031Z"
    }
   },
   "outputs": [],
   "source": [
    "data = pd.DataFrame([products_id, products_category, products_names, products_price ]).T\n",
    "data.columns = ['products_id', 'products_category', 'products_names', 'products_price']\n",
    "\n",
    "# Scrapy datetime\n",
    "data['scrapy_time'] = datetime.now().strftime('%Y-%m-%d %H:%M:%S')"
   ]
  },
  {
   "cell_type": "markdown",
   "id": "d6d29374-2cdf-4796-b2e3-b34090abf436",
   "metadata": {
    "jp-MarkdownHeadingCollapsed": true
   },
   "source": [
    "# 4 - Products colors"
   ]
  },
  {
   "cell_type": "markdown",
   "id": "3674ed06-74f6-4036-90e1-534cee682d03",
   "metadata": {
    "jp-MarkdownHeadingCollapsed": true
   },
   "source": [
    "## 4.1 Just one product"
   ]
  },
  {
   "cell_type": "code",
   "execution_count": 196,
   "id": "a6541f2c-836f-4151-abe1-5392a6f3602b",
   "metadata": {
    "execution": {
     "iopub.execute_input": "2024-03-06T18:38:00.002476Z",
     "iopub.status.busy": "2024-03-06T18:38:00.001755Z",
     "iopub.status.idle": "2024-03-06T18:38:01.962262Z",
     "shell.execute_reply": "2024-03-06T18:38:01.960977Z",
     "shell.execute_reply.started": "2024-03-06T18:38:00.002408Z"
    }
   },
   "outputs": [],
   "source": [
    "# API Requests\n",
    "url = 'https://www2.hm.com/en_us/productpage.1130309007.html'\n",
    "headers = {'User-Agent': 'Mozilla/5.0 (Windows NT 10.0; Win64; x64) AppleWebKit/537.36 (KHTML, like Gecko) Chrome/111.0.0.0 Safari/537.36'}\n",
    "\n",
    "page = requests.get(url, headers = headers)\n",
    "soup = BeautifulSoup(page.text, 'html.parser')\n",
    "\n",
    "# Product color\n",
    "product_list = soup.find_all('a', class_ =\"filter-option miniature\")\n",
    "color_name = [p.get('data-color')for p in product_list]\n",
    "products_id = [p.get('data-articlecode') for p in product_list]\n",
    "\n",
    "#Data frame with color names and products id \n",
    "df_color = pd.DataFrame([products_id, color_name]).T\n",
    "df_color.columns = ['products_id', 'color_name']\n",
    "\n",
    "# style ID + color id\n",
    "df_color['style_id'] = df_color['products_id'].apply(lambda x: x[:-3])\n",
    "df_color['color_id'] = df_color['products_id'].apply(lambda x: x[-3:])"
   ]
  },
  {
   "cell_type": "markdown",
   "id": "191aece6-522b-469e-8a15-830971e1cec2",
   "metadata": {
    "jp-MarkdownHeadingCollapsed": true
   },
   "source": [
    "## 4.2 Multiple Products "
   ]
  },
  {
   "cell_type": "code",
   "execution_count": 213,
   "id": "02cedb5d-4409-424c-8907-d0f0e566bd5d",
   "metadata": {
    "execution": {
     "iopub.execute_input": "2024-03-06T19:58:25.674057Z",
     "iopub.status.busy": "2024-03-06T19:58:25.673271Z",
     "iopub.status.idle": "2024-03-06T19:59:47.833172Z",
     "shell.execute_reply": "2024-03-06T19:59:47.832035Z",
     "shell.execute_reply.started": "2024-03-06T19:58:25.673984Z"
    }
   },
   "outputs": [],
   "source": [
    "headers = {'User-Agent': 'Mozilla/5.0 (Windows NT 10.0; Win64; x64) AppleWebKit/537.36 (KHTML, like Gecko) Chrome/111.0.0.0 Safari/537.36'}\n",
    "\n",
    "df_detalis = pd.DataFrame()\n",
    "\n",
    "for i in range (len (data)):\n",
    "\n",
    "    url = 'https://www2.hm.com/en_us/productpage.'+ data.loc[i, 'products_id'] + '.html'\n",
    "    page = requests.get(url, headers = headers)\n",
    "    soup = BeautifulSoup(page.text, 'html.parser')\n",
    "\n",
    "    # Product color\n",
    "    product_list = soup.find_all('a', class_ =\"filter-option miniature\")\n",
    "    color_name = [p.get('data-color')for p in product_list]\n",
    "    products_id = [p.get('data-articlecode') for p in product_list]\n",
    "\n",
    "    #Data frame with color names and products id \n",
    "    df_color = pd.DataFrame([products_id, color_name]).T\n",
    "    df_color.columns = ['products_id', 'color_name']\n",
    "\n",
    "    # style ID + color id\n",
    "    df_color['style_id'] = df_color['products_id'].apply(lambda x: x[:-3])\n",
    "    df_color['color_id'] = df_color['products_id'].apply(lambda x: x[-3:])\n",
    "\n",
    "    df_detalis = pd.concat([df_detalis, df_color], axis= 0 )\n",
    "\n",
    "\n"
   ]
  },
  {
   "cell_type": "code",
   "execution_count": 214,
   "id": "c37787e2-d189-4a36-989e-e54b801e123e",
   "metadata": {
    "execution": {
     "iopub.execute_input": "2024-03-06T19:59:47.834888Z",
     "iopub.status.busy": "2024-03-06T19:59:47.834605Z",
     "iopub.status.idle": "2024-03-06T19:59:47.850881Z",
     "shell.execute_reply": "2024-03-06T19:59:47.849246Z",
     "shell.execute_reply.started": "2024-03-06T19:59:47.834862Z"
    }
   },
   "outputs": [
    {
     "data": {
      "text/html": [
       "<div>\n",
       "<style scoped>\n",
       "    .dataframe tbody tr th:only-of-type {\n",
       "        vertical-align: middle;\n",
       "    }\n",
       "\n",
       "    .dataframe tbody tr th {\n",
       "        vertical-align: top;\n",
       "    }\n",
       "\n",
       "    .dataframe thead th {\n",
       "        text-align: right;\n",
       "    }\n",
       "</style>\n",
       "<table border=\"1\" class=\"dataframe\">\n",
       "  <thead>\n",
       "    <tr style=\"text-align: right;\">\n",
       "      <th></th>\n",
       "      <th>products_id</th>\n",
       "      <th>color_name</th>\n",
       "      <th>style_id</th>\n",
       "      <th>color_id</th>\n",
       "    </tr>\n",
       "  </thead>\n",
       "  <tbody>\n",
       "    <tr>\n",
       "      <th>0</th>\n",
       "      <td>1130309001</td>\n",
       "      <td>Denim black</td>\n",
       "      <td>1130309</td>\n",
       "      <td>001</td>\n",
       "    </tr>\n",
       "    <tr>\n",
       "      <th>1</th>\n",
       "      <td>1130309002</td>\n",
       "      <td>Light denim blue</td>\n",
       "      <td>1130309</td>\n",
       "      <td>002</td>\n",
       "    </tr>\n",
       "    <tr>\n",
       "      <th>2</th>\n",
       "      <td>1130309004</td>\n",
       "      <td>Dark denim gray</td>\n",
       "      <td>1130309</td>\n",
       "      <td>004</td>\n",
       "    </tr>\n",
       "    <tr>\n",
       "      <th>3</th>\n",
       "      <td>1130309005</td>\n",
       "      <td>Light denim blue</td>\n",
       "      <td>1130309</td>\n",
       "      <td>005</td>\n",
       "    </tr>\n",
       "    <tr>\n",
       "      <th>4</th>\n",
       "      <td>1130309008</td>\n",
       "      <td>Denim red</td>\n",
       "      <td>1130309</td>\n",
       "      <td>008</td>\n",
       "    </tr>\n",
       "    <tr>\n",
       "      <th>...</th>\n",
       "      <td>...</td>\n",
       "      <td>...</td>\n",
       "      <td>...</td>\n",
       "      <td>...</td>\n",
       "    </tr>\n",
       "    <tr>\n",
       "      <th>22</th>\n",
       "      <td>0811993068</td>\n",
       "      <td>Dark denim blue</td>\n",
       "      <td>0811993</td>\n",
       "      <td>068</td>\n",
       "    </tr>\n",
       "    <tr>\n",
       "      <th>23</th>\n",
       "      <td>0811993070</td>\n",
       "      <td>Denim blue</td>\n",
       "      <td>0811993</td>\n",
       "      <td>070</td>\n",
       "    </tr>\n",
       "    <tr>\n",
       "      <th>24</th>\n",
       "      <td>0811993071</td>\n",
       "      <td>Denim blue</td>\n",
       "      <td>0811993</td>\n",
       "      <td>071</td>\n",
       "    </tr>\n",
       "    <tr>\n",
       "      <th>25</th>\n",
       "      <td>0811993072</td>\n",
       "      <td>Denim blue</td>\n",
       "      <td>0811993</td>\n",
       "      <td>072</td>\n",
       "    </tr>\n",
       "    <tr>\n",
       "      <th>26</th>\n",
       "      <td>0811993073</td>\n",
       "      <td>Denim gray</td>\n",
       "      <td>0811993</td>\n",
       "      <td>073</td>\n",
       "    </tr>\n",
       "  </tbody>\n",
       "</table>\n",
       "<p>945 rows × 4 columns</p>\n",
       "</div>"
      ],
      "text/plain": [
       "   products_id        color_name style_id color_id\n",
       "0   1130309001       Denim black  1130309      001\n",
       "1   1130309002  Light denim blue  1130309      002\n",
       "2   1130309004   Dark denim gray  1130309      004\n",
       "3   1130309005  Light denim blue  1130309      005\n",
       "4   1130309008         Denim red  1130309      008\n",
       "..         ...               ...      ...      ...\n",
       "22  0811993068   Dark denim blue  0811993      068\n",
       "23  0811993070        Denim blue  0811993      070\n",
       "24  0811993071        Denim blue  0811993      071\n",
       "25  0811993072        Denim blue  0811993      072\n",
       "26  0811993073        Denim gray  0811993      073\n",
       "\n",
       "[945 rows x 4 columns]"
      ]
     },
     "execution_count": 214,
     "metadata": {},
     "output_type": "execute_result"
    }
   ],
   "source": [
    "df_detalis"
   ]
  },
  {
   "cell_type": "code",
   "execution_count": 216,
   "id": "b27e2dac-59a8-4ce1-8258-37536dda7615",
   "metadata": {
    "execution": {
     "iopub.execute_input": "2024-03-06T20:02:24.082347Z",
     "iopub.status.busy": "2024-03-06T20:02:24.081548Z",
     "iopub.status.idle": "2024-03-06T20:02:24.096763Z",
     "shell.execute_reply": "2024-03-06T20:02:24.094371Z",
     "shell.execute_reply.started": "2024-03-06T20:02:24.082266Z"
    }
   },
   "outputs": [],
   "source": [
    "# Style_id and color_id for data\n",
    "data['style_id'] = data['products_id'].apply(lambda x: x[:-3])\n",
    "data['color_id'] = data['products_id'].apply(lambda x: x[-3:])"
   ]
  },
  {
   "cell_type": "markdown",
   "id": "2fad521d-60a5-4c23-ab2e-d71dc063bf55",
   "metadata": {
    "execution": {
     "iopub.execute_input": "2024-03-06T20:12:17.363407Z",
     "iopub.status.busy": "2024-03-06T20:12:17.361818Z",
     "iopub.status.idle": "2024-03-06T20:12:17.369601Z",
     "shell.execute_reply": "2024-03-06T20:12:17.367730Z",
     "shell.execute_reply.started": "2024-03-06T20:12:17.363322Z"
    },
    "jp-MarkdownHeadingCollapsed": true
   },
   "source": [
    "# 5 - End of web scraping"
   ]
  },
  {
   "cell_type": "code",
   "execution_count": 221,
   "id": "263e459a-bb9a-4a7e-830a-81f5d9c891d2",
   "metadata": {
    "execution": {
     "iopub.execute_input": "2024-03-06T20:04:24.622857Z",
     "iopub.status.busy": "2024-03-06T20:04:24.622153Z",
     "iopub.status.idle": "2024-03-06T20:04:24.642816Z",
     "shell.execute_reply": "2024-03-06T20:04:24.641076Z",
     "shell.execute_reply.started": "2024-03-06T20:04:24.622789Z"
    }
   },
   "outputs": [],
   "source": [
    "df_raw = pd.merge(data, df_detalis[['style_id', 'color_name']], how = 'left', on = 'style_id' )"
   ]
  },
  {
   "cell_type": "code",
   "execution_count": 224,
   "id": "69ea2a2a-1d2d-4fd3-a5f1-bab7bcdcf752",
   "metadata": {
    "execution": {
     "iopub.execute_input": "2024-03-06T20:11:18.746002Z",
     "iopub.status.busy": "2024-03-06T20:11:18.744268Z",
     "iopub.status.idle": "2024-03-06T20:11:18.775747Z",
     "shell.execute_reply": "2024-03-06T20:11:18.773885Z",
     "shell.execute_reply.started": "2024-03-06T20:11:18.745921Z"
    }
   },
   "outputs": [
    {
     "data": {
      "text/html": [
       "<div>\n",
       "<style scoped>\n",
       "    .dataframe tbody tr th:only-of-type {\n",
       "        vertical-align: middle;\n",
       "    }\n",
       "\n",
       "    .dataframe tbody tr th {\n",
       "        vertical-align: top;\n",
       "    }\n",
       "\n",
       "    .dataframe thead th {\n",
       "        text-align: right;\n",
       "    }\n",
       "</style>\n",
       "<table border=\"1\" class=\"dataframe\">\n",
       "  <thead>\n",
       "    <tr style=\"text-align: right;\">\n",
       "      <th></th>\n",
       "      <th>products_id</th>\n",
       "      <th>products_category</th>\n",
       "      <th>products_names</th>\n",
       "      <th>products_price</th>\n",
       "      <th>scrapy_time</th>\n",
       "      <th>style_id</th>\n",
       "      <th>color_id</th>\n",
       "      <th>color_name</th>\n",
       "    </tr>\n",
       "  </thead>\n",
       "  <tbody>\n",
       "    <tr>\n",
       "      <th>3473</th>\n",
       "      <td>1024711006</td>\n",
       "      <td>men_jeans_slim</td>\n",
       "      <td>Slim Jeans</td>\n",
       "      <td>$ 39.99</td>\n",
       "      <td>2024-03-06 16:56:49</td>\n",
       "      <td>1024711</td>\n",
       "      <td>006</td>\n",
       "      <td>Dark blue</td>\n",
       "    </tr>\n",
       "    <tr>\n",
       "      <th>1684</th>\n",
       "      <td>0979945049</td>\n",
       "      <td>men_jeans_loose</td>\n",
       "      <td>Loose Jeans</td>\n",
       "      <td>$ 39.99</td>\n",
       "      <td>2024-03-06 16:56:49</td>\n",
       "      <td>0979945</td>\n",
       "      <td>049</td>\n",
       "      <td>Black</td>\n",
       "    </tr>\n",
       "    <tr>\n",
       "      <th>2041</th>\n",
       "      <td>0979945045</td>\n",
       "      <td>men_jeans_loose</td>\n",
       "      <td>Loose Jeans</td>\n",
       "      <td>$ 39.99</td>\n",
       "      <td>2024-03-06 16:56:49</td>\n",
       "      <td>0979945</td>\n",
       "      <td>045</td>\n",
       "      <td>Olive green</td>\n",
       "    </tr>\n",
       "    <tr>\n",
       "      <th>2287</th>\n",
       "      <td>1008549005</td>\n",
       "      <td>men_jeans_regular</td>\n",
       "      <td>Straight Regular Jeans</td>\n",
       "      <td>$ 29.99</td>\n",
       "      <td>2024-03-06 16:56:49</td>\n",
       "      <td>1008549</td>\n",
       "      <td>005</td>\n",
       "      <td>Dark gray</td>\n",
       "    </tr>\n",
       "    <tr>\n",
       "      <th>1833</th>\n",
       "      <td>0979945039</td>\n",
       "      <td>men_jeans_loose</td>\n",
       "      <td>Loose Jeans</td>\n",
       "      <td>$ 39.99</td>\n",
       "      <td>2024-03-06 16:56:49</td>\n",
       "      <td>0979945</td>\n",
       "      <td>039</td>\n",
       "      <td>Light denim blue</td>\n",
       "    </tr>\n",
       "    <tr>\n",
       "      <th>611</th>\n",
       "      <td>1210576002</td>\n",
       "      <td>men_jeans_regular</td>\n",
       "      <td>Straight Regular Jeans</td>\n",
       "      <td>$ 39.99</td>\n",
       "      <td>2024-03-06 16:56:49</td>\n",
       "      <td>1210576</td>\n",
       "      <td>002</td>\n",
       "      <td>Denim blue</td>\n",
       "    </tr>\n",
       "    <tr>\n",
       "      <th>1618</th>\n",
       "      <td>0979945049</td>\n",
       "      <td>men_jeans_loose</td>\n",
       "      <td>Loose Jeans</td>\n",
       "      <td>$ 39.99</td>\n",
       "      <td>2024-03-06 16:56:49</td>\n",
       "      <td>0979945</td>\n",
       "      <td>049</td>\n",
       "      <td>Light gray</td>\n",
       "    </tr>\n",
       "    <tr>\n",
       "      <th>3</th>\n",
       "      <td>1130309007</td>\n",
       "      <td>men_jeans_loose</td>\n",
       "      <td>Baggy Jeans</td>\n",
       "      <td>$ 39.99</td>\n",
       "      <td>2024-03-06 16:56:49</td>\n",
       "      <td>1130309</td>\n",
       "      <td>007</td>\n",
       "      <td>Light denim blue</td>\n",
       "    </tr>\n",
       "    <tr>\n",
       "      <th>3358</th>\n",
       "      <td>1024256011</td>\n",
       "      <td>men_jeans_slim</td>\n",
       "      <td>Slim Jeans</td>\n",
       "      <td>$ 24.99</td>\n",
       "      <td>2024-03-06 16:56:49</td>\n",
       "      <td>1024256</td>\n",
       "      <td>011</td>\n",
       "      <td>Pale denim blue</td>\n",
       "    </tr>\n",
       "    <tr>\n",
       "      <th>3766</th>\n",
       "      <td>0875105037</td>\n",
       "      <td>men_jeans_relaxed</td>\n",
       "      <td>Relaxed Jeans</td>\n",
       "      <td>$ 39.99</td>\n",
       "      <td>2024-03-06 16:56:49</td>\n",
       "      <td>0875105</td>\n",
       "      <td>037</td>\n",
       "      <td>Denim blue</td>\n",
       "    </tr>\n",
       "    <tr>\n",
       "      <th>1780</th>\n",
       "      <td>0985159004</td>\n",
       "      <td>men_jeans_skinny</td>\n",
       "      <td>Skinny Jeans</td>\n",
       "      <td>$ 29.99</td>\n",
       "      <td>2024-03-06 16:56:49</td>\n",
       "      <td>0985159</td>\n",
       "      <td>004</td>\n",
       "      <td>Dark denim blue</td>\n",
       "    </tr>\n",
       "    <tr>\n",
       "      <th>619</th>\n",
       "      <td>1210175001</td>\n",
       "      <td>men_jeans_relaxed</td>\n",
       "      <td>Straight Relaxed High Jeans</td>\n",
       "      <td>$ 39.99</td>\n",
       "      <td>2024-03-06 16:56:49</td>\n",
       "      <td>1210175</td>\n",
       "      <td>001</td>\n",
       "      <td>Denim blue</td>\n",
       "    </tr>\n",
       "    <tr>\n",
       "      <th>1713</th>\n",
       "      <td>0979945049</td>\n",
       "      <td>men_jeans_loose</td>\n",
       "      <td>Loose Jeans</td>\n",
       "      <td>$ 39.99</td>\n",
       "      <td>2024-03-06 16:56:49</td>\n",
       "      <td>0979945</td>\n",
       "      <td>049</td>\n",
       "      <td>Purple</td>\n",
       "    </tr>\n",
       "    <tr>\n",
       "      <th>1544</th>\n",
       "      <td>1008549029</td>\n",
       "      <td>men_jeans_regular</td>\n",
       "      <td>Straight Regular Jeans</td>\n",
       "      <td>$ 29.99</td>\n",
       "      <td>2024-03-06 16:56:49</td>\n",
       "      <td>1008549</td>\n",
       "      <td>029</td>\n",
       "      <td>Dark denim blue</td>\n",
       "    </tr>\n",
       "    <tr>\n",
       "      <th>4446</th>\n",
       "      <td>0811993034</td>\n",
       "      <td>men_jeans_regular</td>\n",
       "      <td>Straight Regular Jeans</td>\n",
       "      <td>$ 39.99</td>\n",
       "      <td>2024-03-06 16:56:49</td>\n",
       "      <td>0811993</td>\n",
       "      <td>034</td>\n",
       "      <td>Dark denim gray</td>\n",
       "    </tr>\n",
       "    <tr>\n",
       "      <th>1895</th>\n",
       "      <td>0979945039</td>\n",
       "      <td>men_jeans_loose</td>\n",
       "      <td>Loose Jeans</td>\n",
       "      <td>$ 39.99</td>\n",
       "      <td>2024-03-06 16:56:49</td>\n",
       "      <td>0979945</td>\n",
       "      <td>039</td>\n",
       "      <td>Black</td>\n",
       "    </tr>\n",
       "    <tr>\n",
       "      <th>3068</th>\n",
       "      <td>0811993072</td>\n",
       "      <td>men_jeans_regular</td>\n",
       "      <td>Straight Regular Jeans</td>\n",
       "      <td>$ 39.99</td>\n",
       "      <td>2024-03-06 16:56:49</td>\n",
       "      <td>0811993</td>\n",
       "      <td>072</td>\n",
       "      <td>Cream</td>\n",
       "    </tr>\n",
       "    <tr>\n",
       "      <th>3597</th>\n",
       "      <td>0811993040</td>\n",
       "      <td>men_jeans_regular</td>\n",
       "      <td>Straight Regular Jeans</td>\n",
       "      <td>$ 39.99</td>\n",
       "      <td>2024-03-06 16:56:49</td>\n",
       "      <td>0811993</td>\n",
       "      <td>040</td>\n",
       "      <td>Light denim blue</td>\n",
       "    </tr>\n",
       "    <tr>\n",
       "      <th>3663</th>\n",
       "      <td>0811993040</td>\n",
       "      <td>men_jeans_regular</td>\n",
       "      <td>Straight Regular Jeans</td>\n",
       "      <td>$ 39.99</td>\n",
       "      <td>2024-03-06 16:56:49</td>\n",
       "      <td>0811993</td>\n",
       "      <td>040</td>\n",
       "      <td>Cream</td>\n",
       "    </tr>\n",
       "    <tr>\n",
       "      <th>4933</th>\n",
       "      <td>0875105017</td>\n",
       "      <td>men_jeans_relaxed</td>\n",
       "      <td>Relaxed Jeans</td>\n",
       "      <td>$ 39.99</td>\n",
       "      <td>2024-03-06 16:56:49</td>\n",
       "      <td>0875105</td>\n",
       "      <td>017</td>\n",
       "      <td>Pale denim blue</td>\n",
       "    </tr>\n",
       "  </tbody>\n",
       "</table>\n",
       "</div>"
      ],
      "text/plain": [
       "     products_id  products_category               products_names  \\\n",
       "3473  1024711006     men_jeans_slim                   Slim Jeans   \n",
       "1684  0979945049    men_jeans_loose                  Loose Jeans   \n",
       "2041  0979945045    men_jeans_loose                  Loose Jeans   \n",
       "2287  1008549005  men_jeans_regular       Straight Regular Jeans   \n",
       "1833  0979945039    men_jeans_loose                  Loose Jeans   \n",
       "611   1210576002  men_jeans_regular       Straight Regular Jeans   \n",
       "1618  0979945049    men_jeans_loose                  Loose Jeans   \n",
       "3     1130309007    men_jeans_loose                  Baggy Jeans   \n",
       "3358  1024256011     men_jeans_slim                   Slim Jeans   \n",
       "3766  0875105037  men_jeans_relaxed                Relaxed Jeans   \n",
       "1780  0985159004   men_jeans_skinny                 Skinny Jeans   \n",
       "619   1210175001  men_jeans_relaxed  Straight Relaxed High Jeans   \n",
       "1713  0979945049    men_jeans_loose                  Loose Jeans   \n",
       "1544  1008549029  men_jeans_regular       Straight Regular Jeans   \n",
       "4446  0811993034  men_jeans_regular       Straight Regular Jeans   \n",
       "1895  0979945039    men_jeans_loose                  Loose Jeans   \n",
       "3068  0811993072  men_jeans_regular       Straight Regular Jeans   \n",
       "3597  0811993040  men_jeans_regular       Straight Regular Jeans   \n",
       "3663  0811993040  men_jeans_regular       Straight Regular Jeans   \n",
       "4933  0875105017  men_jeans_relaxed                Relaxed Jeans   \n",
       "\n",
       "     products_price          scrapy_time style_id color_id        color_name  \n",
       "3473        $ 39.99  2024-03-06 16:56:49  1024711      006         Dark blue  \n",
       "1684        $ 39.99  2024-03-06 16:56:49  0979945      049             Black  \n",
       "2041        $ 39.99  2024-03-06 16:56:49  0979945      045       Olive green  \n",
       "2287        $ 29.99  2024-03-06 16:56:49  1008549      005         Dark gray  \n",
       "1833        $ 39.99  2024-03-06 16:56:49  0979945      039  Light denim blue  \n",
       "611         $ 39.99  2024-03-06 16:56:49  1210576      002        Denim blue  \n",
       "1618        $ 39.99  2024-03-06 16:56:49  0979945      049        Light gray  \n",
       "3           $ 39.99  2024-03-06 16:56:49  1130309      007  Light denim blue  \n",
       "3358        $ 24.99  2024-03-06 16:56:49  1024256      011   Pale denim blue  \n",
       "3766        $ 39.99  2024-03-06 16:56:49  0875105      037        Denim blue  \n",
       "1780        $ 29.99  2024-03-06 16:56:49  0985159      004   Dark denim blue  \n",
       "619         $ 39.99  2024-03-06 16:56:49  1210175      001        Denim blue  \n",
       "1713        $ 39.99  2024-03-06 16:56:49  0979945      049            Purple  \n",
       "1544        $ 29.99  2024-03-06 16:56:49  1008549      029   Dark denim blue  \n",
       "4446        $ 39.99  2024-03-06 16:56:49  0811993      034   Dark denim gray  \n",
       "1895        $ 39.99  2024-03-06 16:56:49  0979945      039             Black  \n",
       "3068        $ 39.99  2024-03-06 16:56:49  0811993      072             Cream  \n",
       "3597        $ 39.99  2024-03-06 16:56:49  0811993      040  Light denim blue  \n",
       "3663        $ 39.99  2024-03-06 16:56:49  0811993      040             Cream  \n",
       "4933        $ 39.99  2024-03-06 16:56:49  0875105      017   Pale denim blue  "
      ]
     },
     "execution_count": 224,
     "metadata": {},
     "output_type": "execute_result"
    }
   ],
   "source": [
    "df_raw.sample(20)"
   ]
  }
 ],
 "metadata": {
  "kernelspec": {
   "display_name": "Python 3 (ipykernel)",
   "language": "python",
   "name": "python3"
  },
  "language_info": {
   "codemirror_mode": {
    "name": "ipython",
    "version": 3
   },
   "file_extension": ".py",
   "mimetype": "text/x-python",
   "name": "python",
   "nbconvert_exporter": "python",
   "pygments_lexer": "ipython3",
   "version": "3.9.18"
  }
 },
 "nbformat": 4,
 "nbformat_minor": 5
}
