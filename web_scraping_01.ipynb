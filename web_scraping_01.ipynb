{
 "cells": [
  {
   "cell_type": "markdown",
   "id": "c58a2991-9c81-4355-8e3f-740a7bece996",
   "metadata": {
    "jp-MarkdownHeadingCollapsed": true
   },
   "source": [
    "# 0 - IMPORTS "
   ]
  },
  {
   "cell_type": "code",
   "execution_count": 241,
   "id": "2cf6d4da-e3ca-4e55-9430-4e59d6491b20",
   "metadata": {
    "execution": {
     "iopub.execute_input": "2024-03-11T21:21:59.453410Z",
     "iopub.status.busy": "2024-03-11T21:21:59.452708Z",
     "iopub.status.idle": "2024-03-11T21:21:59.463104Z",
     "shell.execute_reply": "2024-03-11T21:21:59.460795Z",
     "shell.execute_reply.started": "2024-03-11T21:21:59.453341Z"
    }
   },
   "outputs": [],
   "source": [
    "from bs4 import BeautifulSoup\n",
    "from datetime import datetime\n",
    "\n",
    "import requests\n",
    "import pandas as pd\n",
    "import numpy as np "
   ]
  },
  {
   "cell_type": "markdown",
   "id": "821d5515-b500-42a4-b4c7-d932d5d20cec",
   "metadata": {
    "jp-MarkdownHeadingCollapsed": true
   },
   "source": [
    "# 1 - START "
   ]
  },
  {
   "cell_type": "code",
   "execution_count": 242,
   "id": "96af6d3e-3f32-4710-9e22-7ab5d15d4b0c",
   "metadata": {
    "execution": {
     "iopub.execute_input": "2024-03-11T21:22:00.202157Z",
     "iopub.status.busy": "2024-03-11T21:22:00.200139Z",
     "iopub.status.idle": "2024-03-11T21:22:00.210502Z",
     "shell.execute_reply": "2024-03-11T21:22:00.208528Z",
     "shell.execute_reply.started": "2024-03-11T21:22:00.201943Z"
    }
   },
   "outputs": [],
   "source": [
    "html_doc = \"\"\"\n",
    "<html><head><title>The Dormouse's story</title></head>\n",
    "<body>\n",
    "<p class=\"title\"><b>The Dormouse's story</b></p>\n",
    "\n",
    "<p class=\"story\">Once upon a time there were three little sisters; and their names were\n",
    "<a href=\"http://example.com/elsie\" class=\"sister\" id=\"link1\">Elsie</a>,\n",
    "<a href=\"http://example.com/lacie\" class=\"sister\" id=\"link2\">Lacie</a> and\n",
    "<a href=\"http://example.com/tillie\" class=\"sister\" id=\"link3\">Tillie</a>;\n",
    "and they lived at the bottom of a well.</p>\n",
    "\n",
    "<p class=\"story\">...</p>\n",
    "\"\"\"\n"
   ]
  },
  {
   "cell_type": "code",
   "execution_count": 243,
   "id": "77e72809-ef81-4ddd-8483-528ddd030f7f",
   "metadata": {
    "execution": {
     "iopub.execute_input": "2024-03-11T21:22:00.484689Z",
     "iopub.status.busy": "2024-03-11T21:22:00.484163Z",
     "iopub.status.idle": "2024-03-11T21:22:00.492148Z",
     "shell.execute_reply": "2024-03-11T21:22:00.490401Z",
     "shell.execute_reply.started": "2024-03-11T21:22:00.484632Z"
    }
   },
   "outputs": [],
   "source": [
    "soup = BeautifulSoup(html_doc, 'html.parser')"
   ]
  },
  {
   "cell_type": "code",
   "execution_count": 244,
   "id": "7659fa53-b922-4bdb-9252-b08b3c0fee76",
   "metadata": {
    "execution": {
     "iopub.execute_input": "2024-03-11T21:22:00.631211Z",
     "iopub.status.busy": "2024-03-11T21:22:00.629174Z",
     "iopub.status.idle": "2024-03-11T21:22:00.646493Z",
     "shell.execute_reply": "2024-03-11T21:22:00.644510Z",
     "shell.execute_reply.started": "2024-03-11T21:22:00.631068Z"
    },
    "scrolled": true
   },
   "outputs": [
    {
     "data": {
      "text/plain": [
       "\n",
       "<html><head><title>The Dormouse's story</title></head>\n",
       "<body>\n",
       "<p class=\"title\"><b>The Dormouse's story</b></p>\n",
       "<p class=\"story\">Once upon a time there were three little sisters; and their names were\n",
       "<a class=\"sister\" href=\"http://example.com/elsie\" id=\"link1\">Elsie</a>,\n",
       "<a class=\"sister\" href=\"http://example.com/lacie\" id=\"link2\">Lacie</a> and\n",
       "<a class=\"sister\" href=\"http://example.com/tillie\" id=\"link3\">Tillie</a>;\n",
       "and they lived at the bottom of a well.</p>\n",
       "<p class=\"story\">...</p>\n",
       "</body></html>"
      ]
     },
     "execution_count": 244,
     "metadata": {},
     "output_type": "execute_result"
    }
   ],
   "source": [
    "soup "
   ]
  },
  {
   "cell_type": "code",
   "execution_count": 245,
   "id": "9b2f812a-8ac0-43a2-8151-375ebc054872",
   "metadata": {
    "execution": {
     "iopub.execute_input": "2024-03-11T21:22:00.769307Z",
     "iopub.status.busy": "2024-03-11T21:22:00.768341Z",
     "iopub.status.idle": "2024-03-11T21:22:00.781339Z",
     "shell.execute_reply": "2024-03-11T21:22:00.779402Z",
     "shell.execute_reply.started": "2024-03-11T21:22:00.769239Z"
    }
   },
   "outputs": [
    {
     "data": {
      "text/plain": [
       "<body>\n",
       "<p class=\"title\"><b>The Dormouse's story</b></p>\n",
       "<p class=\"story\">Once upon a time there were three little sisters; and their names were\n",
       "<a class=\"sister\" href=\"http://example.com/elsie\" id=\"link1\">Elsie</a>,\n",
       "<a class=\"sister\" href=\"http://example.com/lacie\" id=\"link2\">Lacie</a> and\n",
       "<a class=\"sister\" href=\"http://example.com/tillie\" id=\"link3\">Tillie</a>;\n",
       "and they lived at the bottom of a well.</p>\n",
       "<p class=\"story\">...</p>\n",
       "</body>"
      ]
     },
     "execution_count": 245,
     "metadata": {},
     "output_type": "execute_result"
    }
   ],
   "source": [
    "soup.body "
   ]
  },
  {
   "cell_type": "code",
   "execution_count": 246,
   "id": "9ee932d3-7fde-43ca-a75f-5853d7c77423",
   "metadata": {
    "execution": {
     "iopub.execute_input": "2024-03-11T21:22:00.940714Z",
     "iopub.status.busy": "2024-03-11T21:22:00.939234Z",
     "iopub.status.idle": "2024-03-11T21:22:00.953231Z",
     "shell.execute_reply": "2024-03-11T21:22:00.951225Z",
     "shell.execute_reply.started": "2024-03-11T21:22:00.940627Z"
    }
   },
   "outputs": [
    {
     "data": {
      "text/plain": [
       "'Lacie'"
      ]
     },
     "execution_count": 246,
     "metadata": {},
     "output_type": "execute_result"
    }
   ],
   "source": [
    "soup.find_all( 'a', id = 'link2')[0].string"
   ]
  },
  {
   "cell_type": "markdown",
   "id": "862b01b2-64e4-4747-b376-848ca238c77f",
   "metadata": {
    "jp-MarkdownHeadingCollapsed": true
   },
   "source": [
    "# 2 - Data Extraction (H&M) - Showcase page data"
   ]
  },
  {
   "cell_type": "code",
   "execution_count": 247,
   "id": "b2a590ca-94a0-4070-9668-0733a9205244",
   "metadata": {
    "execution": {
     "iopub.execute_input": "2024-03-11T21:22:01.280568Z",
     "iopub.status.busy": "2024-03-11T21:22:01.279053Z",
     "iopub.status.idle": "2024-03-11T21:22:02.269418Z",
     "shell.execute_reply": "2024-03-11T21:22:02.268527Z",
     "shell.execute_reply.started": "2024-03-11T21:22:01.280478Z"
    }
   },
   "outputs": [],
   "source": [
    "url = 'https://www2.hm.com/en_us/men/products/jeans.html'\n",
    "headers = {'User-Agent': 'Mozilla/5.0 (Windows NT 10.0; Win64; x64) AppleWebKit/537.36 (KHTML, like Gecko) Chrome/111.0.0.0 Safari/537.36'}\n",
    "page = requests.get( url, headers = headers)\n",
    "\n",
    "soup = BeautifulSoup(page.text, 'html.parser')\n",
    "\n",
    "products = soup.find('ul', class_ = 'products-listing small')\n",
    "\n",
    "products_list = products.find_all('article', class_ = 'hm-product-item' )"
   ]
  },
  {
   "cell_type": "code",
   "execution_count": 248,
   "id": "b71415f1-ff0e-4648-b304-59d33e614e9e",
   "metadata": {
    "execution": {
     "iopub.execute_input": "2024-03-11T21:22:02.271284Z",
     "iopub.status.busy": "2024-03-11T21:22:02.270954Z",
     "iopub.status.idle": "2024-03-11T21:22:02.288000Z",
     "shell.execute_reply": "2024-03-11T21:22:02.286128Z",
     "shell.execute_reply.started": "2024-03-11T21:22:02.271248Z"
    }
   },
   "outputs": [],
   "source": [
    "# Products ID\n",
    "products_id = [n.get('data-articlecode')for n in products_list]\n",
    "\n",
    "# Products Category \n",
    "products_category = [n.get('data-category')for n in products_list]\n",
    "\n",
    "# Product name by link class\n",
    "products_list1 = products.find_all('a', class_ = 'link')\n",
    "\n",
    "# Products names\n",
    "products_names = [p.get_text()for p in products_list1]\n",
    "\n",
    "# Producs Price \n",
    "price = products.find_all('span', class_ = 'price regular')\n",
    "products_price = [p.get_text() for p in price]"
   ]
  },
  {
   "cell_type": "code",
   "execution_count": 249,
   "id": "aceaf34f-ddbd-48b9-8816-f6a1f8576b09",
   "metadata": {
    "execution": {
     "iopub.execute_input": "2024-03-11T21:22:02.291508Z",
     "iopub.status.busy": "2024-03-11T21:22:02.290462Z",
     "iopub.status.idle": "2024-03-11T21:22:02.300758Z",
     "shell.execute_reply": "2024-03-11T21:22:02.299454Z",
     "shell.execute_reply.started": "2024-03-11T21:22:02.291443Z"
    }
   },
   "outputs": [],
   "source": [
    "data = pd.DataFrame([products_id, products_category, products_names, products_price ]).T\n",
    "data.columns = ['products_id', 'products_category', 'products_names', 'products_price']\n",
    "\n",
    "# Scrapy datetime\n",
    "data['scrapy_time'] = datetime.now().strftime('%Y-%m-%d %H:%M:%S')"
   ]
  },
  {
   "cell_type": "markdown",
   "id": "12dfd1f9-4278-4d45-b3a4-0d59fa956be2",
   "metadata": {
    "jp-MarkdownHeadingCollapsed": true
   },
   "source": [
    "# 3 - Pagination at H&M"
   ]
  },
  {
   "cell_type": "code",
   "execution_count": 250,
   "id": "4f611666-254b-4906-9319-0412fe06691c",
   "metadata": {
    "execution": {
     "iopub.execute_input": "2024-03-11T21:22:02.304970Z",
     "iopub.status.busy": "2024-03-11T21:22:02.303842Z",
     "iopub.status.idle": "2024-03-11T21:22:03.674163Z",
     "shell.execute_reply": "2024-03-11T21:22:03.672978Z",
     "shell.execute_reply.started": "2024-03-11T21:22:02.304872Z"
    }
   },
   "outputs": [],
   "source": [
    "# Pagination\n",
    "headers = {'User-Agent': 'Mozilla/5.0 (Windows NT 10.0; Win64; x64) AppleWebKit/537.36 (KHTML, like Gecko) Chrome/111.0.0.0 Safari/537.36'}\n",
    "url = \"https://www2.hm.com/en_us/men/products/jeans.html\"\n",
    "page = requests.get( url, headers = headers)\n",
    "soup = BeautifulSoup(page.text, 'html.parser')\n",
    "total_item = soup.find_all('h2', class_ = 'load-more-heading')[0].get('data-total')\n",
    "page_number = np.round (int(total_item) / 36)\n",
    "url02 = url + '?page-size=' + str(int(page_number * 36 ))"
   ]
  },
  {
   "cell_type": "code",
   "execution_count": 251,
   "id": "dc423b23-4c88-442b-a043-8506e32dc1f9",
   "metadata": {
    "execution": {
     "iopub.execute_input": "2024-03-11T21:22:03.675688Z",
     "iopub.status.busy": "2024-03-11T21:22:03.675289Z",
     "iopub.status.idle": "2024-03-11T21:22:06.115653Z",
     "shell.execute_reply": "2024-03-11T21:22:06.114425Z",
     "shell.execute_reply.started": "2024-03-11T21:22:03.675652Z"
    }
   },
   "outputs": [],
   "source": [
    "# Requests with url02\n",
    "headers = {'User-Agent': 'Mozilla/5.0 (Windows NT 10.0; Win64; x64) AppleWebKit/537.36 (KHTML, like Gecko) Chrome/111.0.0.0 Safari/537.36'}\n",
    "page = requests.get( url02, headers = headers)\n",
    "soup = BeautifulSoup(page.text, 'html.parser')\n",
    "products = soup.find('ul', class_ = 'products-listing small')\n",
    "products_list = products.find_all('article', class_ = 'hm-product-item' )"
   ]
  },
  {
   "cell_type": "code",
   "execution_count": 252,
   "id": "b4363d47-6b31-490e-b7fc-0e039a9834a5",
   "metadata": {
    "execution": {
     "iopub.execute_input": "2024-03-11T21:22:06.117093Z",
     "iopub.status.busy": "2024-03-11T21:22:06.116824Z",
     "iopub.status.idle": "2024-03-11T21:22:06.148924Z",
     "shell.execute_reply": "2024-03-11T21:22:06.147319Z",
     "shell.execute_reply.started": "2024-03-11T21:22:06.117065Z"
    }
   },
   "outputs": [],
   "source": [
    "# Products ID\n",
    "products_id = [n.get('data-articlecode')for n in products_list]\n",
    "\n",
    "# Products Category \n",
    "products_category = [n.get('data-category')for n in products_list]\n",
    "\n",
    "# Product name by link class\n",
    "products_list1 = products.find_all('a', class_ = 'link')\n",
    "\n",
    "# Products names\n",
    "products_names = [p.get_text()for p in products_list1]\n",
    "\n",
    "# Producs Price \n",
    "price = products.find_all('span', class_ = 'price regular')\n",
    "products_price = [p.get_text() for p in price]"
   ]
  },
  {
   "cell_type": "code",
   "execution_count": 253,
   "id": "c9c5796c-784e-4c36-840a-4d8ba4febc65",
   "metadata": {
    "execution": {
     "iopub.execute_input": "2024-03-11T21:22:06.151311Z",
     "iopub.status.busy": "2024-03-11T21:22:06.150734Z",
     "iopub.status.idle": "2024-03-11T21:22:06.165867Z",
     "shell.execute_reply": "2024-03-11T21:22:06.163798Z",
     "shell.execute_reply.started": "2024-03-11T21:22:06.151264Z"
    }
   },
   "outputs": [],
   "source": [
    "data = pd.DataFrame([products_id, products_category, products_names, products_price ]).T\n",
    "data.columns = ['products_id', 'products_category', 'products_names', 'products_price']\n",
    "\n",
    "# Scrapy datetime\n",
    "data['scrapy_time'] = datetime.now().strftime('%Y-%m-%d %H:%M:%S')"
   ]
  },
  {
   "cell_type": "markdown",
   "id": "d6d29374-2cdf-4796-b2e3-b34090abf436",
   "metadata": {
    "jp-MarkdownHeadingCollapsed": true
   },
   "source": [
    "# 4 - Products colors"
   ]
  },
  {
   "cell_type": "markdown",
   "id": "3674ed06-74f6-4036-90e1-534cee682d03",
   "metadata": {
    "jp-MarkdownHeadingCollapsed": true
   },
   "source": [
    "## 4.1 Just one product"
   ]
  },
  {
   "cell_type": "code",
   "execution_count": 254,
   "id": "a6541f2c-836f-4151-abe1-5392a6f3602b",
   "metadata": {
    "execution": {
     "iopub.execute_input": "2024-03-11T21:22:06.170865Z",
     "iopub.status.busy": "2024-03-11T21:22:06.170328Z",
     "iopub.status.idle": "2024-03-11T21:22:07.031874Z",
     "shell.execute_reply": "2024-03-11T21:22:07.030767Z",
     "shell.execute_reply.started": "2024-03-11T21:22:06.170812Z"
    }
   },
   "outputs": [],
   "source": [
    "# API Requests\n",
    "url = 'https://www2.hm.com/en_us/productpage.1130309007.html'\n",
    "headers = {'User-Agent': 'Mozilla/5.0 (Windows NT 10.0; Win64; x64) AppleWebKit/537.36 (KHTML, like Gecko) Chrome/111.0.0.0 Safari/537.36'}\n",
    "\n",
    "page = requests.get(url, headers = headers)\n",
    "soup = BeautifulSoup(page.text, 'html.parser')\n",
    "\n",
    "# Product color\n",
    "product_list = soup.find_all('a', class_ =\"filter-option miniature\")\n",
    "color_name = [p.get('data-color')for p in product_list]\n",
    "products_id = [p.get('data-articlecode') for p in product_list]\n",
    "\n",
    "#Data frame with color names and products id \n",
    "df_color = pd.DataFrame([products_id, color_name]).T\n",
    "df_color.columns = ['products_id', 'color_name']\n",
    "\n",
    "# style ID + color id\n",
    "df_color['style_id'] = df_color['products_id'].apply(lambda x: x[:-3])\n",
    "df_color['color_id'] = df_color['products_id'].apply(lambda x: x[-3:])"
   ]
  },
  {
   "cell_type": "markdown",
   "id": "191aece6-522b-469e-8a15-830971e1cec2",
   "metadata": {
    "jp-MarkdownHeadingCollapsed": true
   },
   "source": [
    "## 4.2 Multiple Products "
   ]
  },
  {
   "cell_type": "code",
   "execution_count": 255,
   "id": "02cedb5d-4409-424c-8907-d0f0e566bd5d",
   "metadata": {
    "execution": {
     "iopub.execute_input": "2024-03-11T21:22:07.032903Z",
     "iopub.status.busy": "2024-03-11T21:22:07.032643Z",
     "iopub.status.idle": "2024-03-11T21:23:36.372548Z",
     "shell.execute_reply": "2024-03-11T21:23:36.371298Z",
     "shell.execute_reply.started": "2024-03-11T21:22:07.032877Z"
    }
   },
   "outputs": [],
   "source": [
    "headers = {'User-Agent': 'Mozilla/5.0 (Windows NT 10.0; Win64; x64) AppleWebKit/537.36 (KHTML, like Gecko) Chrome/111.0.0.0 Safari/537.36'}\n",
    "\n",
    "df_detalis = pd.DataFrame()\n",
    "\n",
    "for i in range (len (data)):\n",
    "\n",
    "    url = 'https://www2.hm.com/en_us/productpage.'+ data.loc[i, 'products_id'] + '.html'\n",
    "    page = requests.get(url, headers = headers)\n",
    "    soup = BeautifulSoup(page.text, 'html.parser')\n",
    "\n",
    "    # Product color\n",
    "    product_list = soup.find_all('a', class_ =\"filter-option miniature\")\n",
    "    color_name = [p.get('data-color')for p in product_list]\n",
    "    products_id = [p.get('data-articlecode') for p in product_list]\n",
    "\n",
    "    #Data frame with color names and products id \n",
    "    df_color = pd.DataFrame([products_id, color_name]).T\n",
    "    df_color.columns = ['products_id', 'color_name']\n",
    "\n",
    "    # style ID + color id\n",
    "    df_color['style_id'] = df_color['products_id'].apply(lambda x: x[:-3])\n",
    "    df_color['color_id'] = df_color['products_id'].apply(lambda x: x[-3:])\n",
    "\n",
    "    df_detalis = pd.concat([df_detalis, df_color], axis= 0 )"
   ]
  },
  {
   "cell_type": "code",
   "execution_count": 256,
   "id": "b27e2dac-59a8-4ce1-8258-37536dda7615",
   "metadata": {
    "execution": {
     "iopub.execute_input": "2024-03-11T21:23:36.373820Z",
     "iopub.status.busy": "2024-03-11T21:23:36.373507Z",
     "iopub.status.idle": "2024-03-11T21:23:36.383106Z",
     "shell.execute_reply": "2024-03-11T21:23:36.380731Z",
     "shell.execute_reply.started": "2024-03-11T21:23:36.373786Z"
    }
   },
   "outputs": [],
   "source": [
    "# Style_id and color_id for data\n",
    "data['style_id'] = data['products_id'].apply(lambda x: x[:-3])\n",
    "data['color_id'] = data['products_id'].apply(lambda x: x[-3:])"
   ]
  },
  {
   "cell_type": "markdown",
   "id": "2fad521d-60a5-4c23-ab2e-d71dc063bf55",
   "metadata": {
    "execution": {
     "iopub.execute_input": "2024-03-06T20:12:17.363407Z",
     "iopub.status.busy": "2024-03-06T20:12:17.361818Z",
     "iopub.status.idle": "2024-03-06T20:12:17.369601Z",
     "shell.execute_reply": "2024-03-06T20:12:17.367730Z",
     "shell.execute_reply.started": "2024-03-06T20:12:17.363322Z"
    },
    "jp-MarkdownHeadingCollapsed": true
   },
   "source": [
    "# 5 - End of web scraping - H&M Showroom of masculinity jeans"
   ]
  },
  {
   "cell_type": "code",
   "execution_count": 257,
   "id": "7e5d0298-cf50-4e51-868e-0cf37893777c",
   "metadata": {
    "execution": {
     "iopub.execute_input": "2024-03-11T21:23:36.385111Z",
     "iopub.status.busy": "2024-03-11T21:23:36.384682Z",
     "iopub.status.idle": "2024-03-11T21:23:36.398985Z",
     "shell.execute_reply": "2024-03-11T21:23:36.397862Z",
     "shell.execute_reply.started": "2024-03-11T21:23:36.385066Z"
    }
   },
   "outputs": [],
   "source": [
    "# cleaning the data \n",
    "df_detalis2 = df_detalis.drop_duplicates()\n",
    "\n",
    "df_raw = pd.merge(data, df_detalis2[['products_id', 'color_name']], how = 'left', on = 'products_id')\n",
    "df_raw2 = df_raw.drop_duplicates()"
   ]
  },
  {
   "cell_type": "code",
   "execution_count": 260,
   "id": "54113ecc-f819-4b43-b064-a59ae88d0c6c",
   "metadata": {
    "execution": {
     "iopub.execute_input": "2024-03-11T21:30:34.384958Z",
     "iopub.status.busy": "2024-03-11T21:30:34.384238Z",
     "iopub.status.idle": "2024-03-11T21:30:34.424131Z",
     "shell.execute_reply": "2024-03-11T21:30:34.421586Z",
     "shell.execute_reply.started": "2024-03-11T21:30:34.384887Z"
    }
   },
   "outputs": [
    {
     "data": {
      "text/html": [
       "<div>\n",
       "<style scoped>\n",
       "    .dataframe tbody tr th:only-of-type {\n",
       "        vertical-align: middle;\n",
       "    }\n",
       "\n",
       "    .dataframe tbody tr th {\n",
       "        vertical-align: top;\n",
       "    }\n",
       "\n",
       "    .dataframe thead th {\n",
       "        text-align: right;\n",
       "    }\n",
       "</style>\n",
       "<table border=\"1\" class=\"dataframe\">\n",
       "  <thead>\n",
       "    <tr style=\"text-align: right;\">\n",
       "      <th></th>\n",
       "      <th>products_id</th>\n",
       "      <th>products_category</th>\n",
       "      <th>products_names</th>\n",
       "      <th>products_price</th>\n",
       "      <th>scrapy_time</th>\n",
       "      <th>style_id</th>\n",
       "      <th>color_id</th>\n",
       "      <th>color_name</th>\n",
       "    </tr>\n",
       "  </thead>\n",
       "  <tbody>\n",
       "    <tr>\n",
       "      <th>0</th>\n",
       "      <td>1130309007</td>\n",
       "      <td>men_jeans_loose</td>\n",
       "      <td>Baggy Jeans</td>\n",
       "      <td>$ 39.99</td>\n",
       "      <td>2024-03-11 18:22:06</td>\n",
       "      <td>1130309</td>\n",
       "      <td>007</td>\n",
       "      <td>Dark denim gray</td>\n",
       "    </tr>\n",
       "    <tr>\n",
       "      <th>1</th>\n",
       "      <td>0979945038</td>\n",
       "      <td>men_jeans_loose</td>\n",
       "      <td>Loose Jeans</td>\n",
       "      <td>$ 39.99</td>\n",
       "      <td>2024-03-11 18:22:06</td>\n",
       "      <td>0979945</td>\n",
       "      <td>038</td>\n",
       "      <td>Denim gray</td>\n",
       "    </tr>\n",
       "    <tr>\n",
       "      <th>2</th>\n",
       "      <td>1130309019</td>\n",
       "      <td>men_jeans_loose</td>\n",
       "      <td>Baggy Jeans</td>\n",
       "      <td>$ 39.99</td>\n",
       "      <td>2024-03-11 18:22:06</td>\n",
       "      <td>1130309</td>\n",
       "      <td>019</td>\n",
       "      <td>Light denim blue</td>\n",
       "    </tr>\n",
       "    <tr>\n",
       "      <th>3</th>\n",
       "      <td>1130274012</td>\n",
       "      <td>men_jeans_loose</td>\n",
       "      <td>Loose Jeans</td>\n",
       "      <td>$ 39.99</td>\n",
       "      <td>2024-03-11 18:22:06</td>\n",
       "      <td>1130274</td>\n",
       "      <td>012</td>\n",
       "      <td>Denim black</td>\n",
       "    </tr>\n",
       "    <tr>\n",
       "      <th>4</th>\n",
       "      <td>1130274013</td>\n",
       "      <td>men_jeans_loose</td>\n",
       "      <td>Loose Jeans</td>\n",
       "      <td>$ 39.99</td>\n",
       "      <td>2024-03-11 18:22:06</td>\n",
       "      <td>1130274</td>\n",
       "      <td>013</td>\n",
       "      <td>Light denim blue</td>\n",
       "    </tr>\n",
       "    <tr>\n",
       "      <th>...</th>\n",
       "      <td>...</td>\n",
       "      <td>...</td>\n",
       "      <td>...</td>\n",
       "      <td>...</td>\n",
       "      <td>...</td>\n",
       "      <td>...</td>\n",
       "      <td>...</td>\n",
       "      <td>...</td>\n",
       "    </tr>\n",
       "    <tr>\n",
       "      <th>101</th>\n",
       "      <td>0875105017</td>\n",
       "      <td>men_jeans_relaxed</td>\n",
       "      <td>Relaxed Jeans</td>\n",
       "      <td>$ 39.99</td>\n",
       "      <td>2024-03-11 18:22:06</td>\n",
       "      <td>0875105</td>\n",
       "      <td>017</td>\n",
       "      <td>Dark denim blue</td>\n",
       "    </tr>\n",
       "    <tr>\n",
       "      <th>102</th>\n",
       "      <td>1210576004</td>\n",
       "      <td>men_jeans_regular</td>\n",
       "      <td>Straight Regular Jeans</td>\n",
       "      <td>$ 39.99</td>\n",
       "      <td>2024-03-11 18:22:06</td>\n",
       "      <td>1210576</td>\n",
       "      <td>004</td>\n",
       "      <td>NaN</td>\n",
       "    </tr>\n",
       "    <tr>\n",
       "      <th>103</th>\n",
       "      <td>0811993068</td>\n",
       "      <td>men_jeans_regular</td>\n",
       "      <td>Straight Regular Jeans</td>\n",
       "      <td>$ 39.99</td>\n",
       "      <td>2024-03-11 18:22:06</td>\n",
       "      <td>0811993</td>\n",
       "      <td>068</td>\n",
       "      <td>Dark denim blue</td>\n",
       "    </tr>\n",
       "    <tr>\n",
       "      <th>104</th>\n",
       "      <td>0985159008</td>\n",
       "      <td>men_jeans_skinny</td>\n",
       "      <td>Skinny Jeans</td>\n",
       "      <td>$ 29.99</td>\n",
       "      <td>2024-03-11 18:22:06</td>\n",
       "      <td>0985159</td>\n",
       "      <td>008</td>\n",
       "      <td>Dark gray</td>\n",
       "    </tr>\n",
       "    <tr>\n",
       "      <th>105</th>\n",
       "      <td>1008110006</td>\n",
       "      <td>men_jeans_slim</td>\n",
       "      <td>Freefit® Slim Jeans</td>\n",
       "      <td>$ 49.99</td>\n",
       "      <td>2024-03-11 18:22:06</td>\n",
       "      <td>1008110</td>\n",
       "      <td>006</td>\n",
       "      <td>Denim blue</td>\n",
       "    </tr>\n",
       "  </tbody>\n",
       "</table>\n",
       "<p>106 rows × 8 columns</p>\n",
       "</div>"
      ],
      "text/plain": [
       "    products_id  products_category          products_names products_price  \\\n",
       "0    1130309007    men_jeans_loose             Baggy Jeans        $ 39.99   \n",
       "1    0979945038    men_jeans_loose             Loose Jeans        $ 39.99   \n",
       "2    1130309019    men_jeans_loose             Baggy Jeans        $ 39.99   \n",
       "3    1130274012    men_jeans_loose             Loose Jeans        $ 39.99   \n",
       "4    1130274013    men_jeans_loose             Loose Jeans        $ 39.99   \n",
       "..          ...                ...                     ...            ...   \n",
       "101  0875105017  men_jeans_relaxed           Relaxed Jeans        $ 39.99   \n",
       "102  1210576004  men_jeans_regular  Straight Regular Jeans        $ 39.99   \n",
       "103  0811993068  men_jeans_regular  Straight Regular Jeans        $ 39.99   \n",
       "104  0985159008   men_jeans_skinny            Skinny Jeans        $ 29.99   \n",
       "105  1008110006     men_jeans_slim     Freefit® Slim Jeans        $ 49.99   \n",
       "\n",
       "             scrapy_time style_id color_id        color_name  \n",
       "0    2024-03-11 18:22:06  1130309      007   Dark denim gray  \n",
       "1    2024-03-11 18:22:06  0979945      038        Denim gray  \n",
       "2    2024-03-11 18:22:06  1130309      019  Light denim blue  \n",
       "3    2024-03-11 18:22:06  1130274      012       Denim black  \n",
       "4    2024-03-11 18:22:06  1130274      013  Light denim blue  \n",
       "..                   ...      ...      ...               ...  \n",
       "101  2024-03-11 18:22:06  0875105      017   Dark denim blue  \n",
       "102  2024-03-11 18:22:06  1210576      004               NaN  \n",
       "103  2024-03-11 18:22:06  0811993      068   Dark denim blue  \n",
       "104  2024-03-11 18:22:06  0985159      008         Dark gray  \n",
       "105  2024-03-11 18:22:06  1008110      006        Denim blue  \n",
       "\n",
       "[106 rows x 8 columns]"
      ]
     },
     "execution_count": 260,
     "metadata": {},
     "output_type": "execute_result"
    }
   ],
   "source": [
    "df_raw2"
   ]
  },
  {
   "cell_type": "code",
   "execution_count": null,
   "id": "64bac08d-d0b5-4819-98b0-97d18217ef8a",
   "metadata": {},
   "outputs": [],
   "source": []
  },
  {
   "cell_type": "code",
   "execution_count": null,
   "id": "1a8f244b-d5a6-465c-8c80-3f53162c6688",
   "metadata": {},
   "outputs": [],
   "source": []
  }
 ],
 "metadata": {
  "kernelspec": {
   "display_name": "Python 3 (ipykernel)",
   "language": "python",
   "name": "python3"
  },
  "language_info": {
   "codemirror_mode": {
    "name": "ipython",
    "version": 3
   },
   "file_extension": ".py",
   "mimetype": "text/x-python",
   "name": "python",
   "nbconvert_exporter": "python",
   "pygments_lexer": "ipython3",
   "version": "3.9.18"
  }
 },
 "nbformat": 4,
 "nbformat_minor": 5
}
